{
  "nbformat": 4,
  "nbformat_minor": 0,
  "metadata": {
    "colab": {
      "name": "10_dual_numbers.ipynb",
      "provenance": [],
      "collapsed_sections": []
    },
    "kernelspec": {
      "name": "python3",
      "display_name": "Python 3"
    }
  },
  "cells": [
    {
      "cell_type": "markdown",
      "metadata": {
        "id": "gMz-33_m3OVr"
      },
      "source": [
        "# Forward auto-diff through Dual Numbers"
      ]
    },
    {
      "cell_type": "code",
      "metadata": {
        "id": "0yxN97Qqaz7O"
      },
      "source": [
        "import numpy as np"
      ],
      "execution_count": 1,
      "outputs": []
    },
    {
      "cell_type": "markdown",
      "metadata": {
        "id": "uJ7sptoJ3WoN"
      },
      "source": [
        "Let us define a class `DualNumber` that represents a dual number\n",
        "\n",
        "$$\n",
        "a + b \\epsilon \n",
        "$$\n",
        "\n",
        "where $a$ is the \"real\" part and $b$ is the \"dual\" part."
      ]
    },
    {
      "cell_type": "code",
      "metadata": {
        "id": "dzKOGcA9obqm"
      },
      "source": [
        "#__init__ main constructor of the class\n",
        "# __repr__ to print the object\n",
        "class DualNumber:\n",
        "  def __init__(self, real, dual):\n",
        "    # dual number: 'real' + 'dual' * eps\n",
        "    self.real = real\n",
        "    self.dual = dual\n",
        "\n",
        "  def __repr__(self):\n",
        "    return repr(self.real) + ' + ' + repr(self.dual) + ' epsilon'"
      ],
      "execution_count": 13,
      "outputs": []
    },
    {
      "cell_type": "markdown",
      "metadata": {
        "id": "KwUm1iNAohoq"
      },
      "source": [
        "Define the dual numbers\n",
        "\n",
        "$$\n",
        "\\begin{split}\n",
        "x &= 1 + 2 \\epsilon \\\\\n",
        "y &= 1.5 + 3.1 \\epsilon \\\\\n",
        "\\end{split}\n",
        "$$"
      ]
    },
    {
      "cell_type": "code",
      "metadata": {
        "id": "mOOr9Tu_GO4w",
        "colab": {
          "base_uri": "https://localhost:8080/"
        },
        "outputId": "9490338c-34c1-4b76-b796-4217e1782c3e"
      },
      "source": [
        "x = DualNumber(1,2)\n",
        "y = DualNumber(1.5,3.1)\n",
        "print(\"X:\", x)"
      ],
      "execution_count": 8,
      "outputs": [
        {
          "output_type": "stream",
          "name": "stdout",
          "text": [
            "X: 1 + 2 epsilon\n"
          ]
        }
      ]
    },
    {
      "cell_type": "markdown",
      "metadata": {
        "id": "DAH2eIaHod_y"
      },
      "source": [
        "Implement the operator sum `__add__` for this class."
      ]
    },
    {
      "cell_type": "code",
      "metadata": {
        "id": "JbgwZc9UzG7U"
      },
      "source": [
        "class DualNumber:\n",
        "  def __init__(self, real, dual):\n",
        "    # dual number: 'real' + 'dual' * eps\n",
        "    self.real = real\n",
        "    self.dual = dual\n",
        "\n",
        "  def __repr__(self):\n",
        "    return repr(self.real) + ' + ' + repr(self.dual) + ' epsilon'\n",
        "\n",
        "  def __add__(self, other):\n",
        "    # implement the operation \"self + other\"\n",
        "    result_real=self.real+other.real\n",
        "    result_dual=self.dual+other.dual\n",
        "    return DualNumber(result_real,result_dual)"
      ],
      "execution_count": 14,
      "outputs": []
    },
    {
      "cell_type": "markdown",
      "metadata": {
        "id": "LgV_q13m3iD6"
      },
      "source": [
        "Define the dual numbers\n",
        "\n",
        "$$\n",
        "\\begin{split}\n",
        "x &= 1 + 2 \\epsilon \\\\\n",
        "y &= 1.5 + 3.1 \\epsilon \\\\\n",
        "\\end{split}\n",
        "$$\n",
        "\n",
        "Then, compute $z = x + y$ and display the result."
      ]
    },
    {
      "cell_type": "code",
      "metadata": {
        "colab": {
          "base_uri": "https://localhost:8080/"
        },
        "id": "59QJnN5oIfX2",
        "outputId": "7b14977b-ff2e-4b04-fe36-c4296165e726"
      },
      "source": [
        "x = DualNumber(1,2)\n",
        "y = DualNumber(1.5,3.1)\n",
        "x+y"
      ],
      "execution_count": 15,
      "outputs": [
        {
          "output_type": "execute_result",
          "data": {
            "text/plain": [
              "2.5 + 5.1 epsilon"
            ]
          },
          "metadata": {},
          "execution_count": 15
        }
      ]
    },
    {
      "cell_type": "markdown",
      "metadata": {
        "id": "krnyTgBg4If-"
      },
      "source": [
        "Define now the dual number\n",
        "\n",
        "$$\n",
        "\\begin{split}\n",
        "x &= 1 + 2 \\epsilon \\\\\n",
        "\\end{split}\n",
        "$$\n",
        "\n",
        "and try to compute $w = x + 1$. What is going on?"
      ]
    },
    {
      "cell_type": "code",
      "metadata": {
        "colab": {
          "base_uri": "https://localhost:8080/",
          "height": 280
        },
        "id": "RrBtYXzxIizl",
        "outputId": "4541e4df-6a74-4b9e-82c8-54fa328fdcaf"
      },
      "source": [
        "x+1"
      ],
      "execution_count": 16,
      "outputs": [
        {
          "output_type": "error",
          "ename": "AttributeError",
          "evalue": "ignored",
          "traceback": [
            "\u001b[0;31m---------------------------------------------------------------------------\u001b[0m",
            "\u001b[0;31mAttributeError\u001b[0m                            Traceback (most recent call last)",
            "\u001b[0;32m<ipython-input-16-da2b8556d113>\u001b[0m in \u001b[0;36m<module>\u001b[0;34m()\u001b[0m\n\u001b[0;32m----> 1\u001b[0;31m \u001b[0mx\u001b[0m\u001b[0;34m+\u001b[0m\u001b[0;36m1\u001b[0m\u001b[0;34m\u001b[0m\u001b[0;34m\u001b[0m\u001b[0m\n\u001b[0m",
            "\u001b[0;32m<ipython-input-14-a99fc7a2d942>\u001b[0m in \u001b[0;36m__add__\u001b[0;34m(self, other)\u001b[0m\n\u001b[1;32m     11\u001b[0m     \u001b[0;31m# implement the operation \"self + other\"\u001b[0m\u001b[0;34m\u001b[0m\u001b[0;34m\u001b[0m\u001b[0;34m\u001b[0m\u001b[0m\n\u001b[1;32m     12\u001b[0m     \u001b[0mresult_real\u001b[0m\u001b[0;34m=\u001b[0m\u001b[0mself\u001b[0m\u001b[0;34m.\u001b[0m\u001b[0mreal\u001b[0m\u001b[0;34m+\u001b[0m\u001b[0mother\u001b[0m\u001b[0;34m.\u001b[0m\u001b[0mreal\u001b[0m\u001b[0;34m\u001b[0m\u001b[0;34m\u001b[0m\u001b[0m\n\u001b[0;32m---> 13\u001b[0;31m     \u001b[0mresult_dual\u001b[0m\u001b[0;34m=\u001b[0m\u001b[0mself\u001b[0m\u001b[0;34m.\u001b[0m\u001b[0mdual\u001b[0m\u001b[0;34m+\u001b[0m\u001b[0mother\u001b[0m\u001b[0;34m.\u001b[0m\u001b[0mdual\u001b[0m\u001b[0;34m\u001b[0m\u001b[0;34m\u001b[0m\u001b[0m\n\u001b[0m\u001b[1;32m     14\u001b[0m     \u001b[0;32mreturn\u001b[0m \u001b[0mDualNumber\u001b[0m\u001b[0;34m(\u001b[0m\u001b[0mresult_real\u001b[0m\u001b[0;34m,\u001b[0m\u001b[0mresult_dual\u001b[0m\u001b[0;34m)\u001b[0m\u001b[0;34m\u001b[0m\u001b[0;34m\u001b[0m\u001b[0m\n",
            "\u001b[0;31mAttributeError\u001b[0m: 'int' object has no attribute 'dual'"
          ]
        }
      ]
    },
    {
      "cell_type": "markdown",
      "metadata": {
        "id": "FvUatRPG4WAY"
      },
      "source": [
        "Try now to compute $w = 1 + x$ (in this specific order). What is going on this time?"
      ]
    },
    {
      "cell_type": "markdown",
      "metadata": {
        "id": "baVLjN8Y4dIA"
      },
      "source": [
        "To overcome the above inconvenient, introduce a check (inside the definition of `__add__`) on the type of `other`. Moroever, define the operator `__radd__`, besides `__add__`."
      ]
    },
    {
      "cell_type": "code",
      "metadata": {
        "id": "k1XrCZgx0B09"
      },
      "source": [
        "class DualNumber:\n",
        "  def __init__(self, real, dual):\n",
        "    # dual number: 'real' + 'dual' * eps\n",
        "    self.real = real\n",
        "    self.dual = dual\n",
        "\n",
        "  def __repr__(self):\n",
        "    return repr(self.real) + ' + ' + repr(self.dual) + ' epsilon'\n",
        "\n",
        "  def __add__(self, other):\n",
        "    # implement the operation \"self + other\"\n",
        "    if isinstance(other, DualNumber):\n",
        "      result_real=self.real+other.real\n",
        "      result_dual=self.dual+other.dual\n",
        "      return DualNumber(result_real,result_dual)\n",
        "        \n",
        "    else:\n",
        "      result_real=self.real+other\n",
        "      return DualNumber(result_real,self.dual)\n",
        "  def __radd__(self, other):\n",
        "    # implement the operation \"other + self\"\n",
        "    return self.__add__(other)"
      ],
      "execution_count": 17,
      "outputs": []
    },
    {
      "cell_type": "code",
      "metadata": {
        "colab": {
          "base_uri": "https://localhost:8080/"
        },
        "id": "QWg7HzUkJQ8v",
        "outputId": "5dde1c17-ec4e-48e2-8495-5e65e3b2e2d5"
      },
      "source": [
        "x=DualNumber(1,2)\n",
        "x+1"
      ],
      "execution_count": 18,
      "outputs": [
        {
          "output_type": "execute_result",
          "data": {
            "text/plain": [
              "2 + 2 epsilon"
            ]
          },
          "metadata": {},
          "execution_count": 18
        }
      ]
    },
    {
      "cell_type": "markdown",
      "metadata": {
        "id": "cpeVP2-p4u5f"
      },
      "source": [
        "Try again to compute $w = x + 1$"
      ]
    },
    {
      "cell_type": "code",
      "metadata": {
        "colab": {
          "base_uri": "https://localhost:8080/"
        },
        "id": "Hy-JLa1-Kjfj",
        "outputId": "93d114e1-e841-4e4e-8a45-85d857a62669"
      },
      "source": [
        "1+x"
      ],
      "execution_count": 19,
      "outputs": [
        {
          "output_type": "execute_result",
          "data": {
            "text/plain": [
              "2 + 2 epsilon"
            ]
          },
          "metadata": {},
          "execution_count": 19
        }
      ]
    },
    {
      "cell_type": "markdown",
      "metadata": {
        "id": "2gHd4VjU40O-"
      },
      "source": [
        "Now that we have learnt how to treat the operator \"+\", let us define the full class `DualNumber`, implementing also the operators \"-\", \"*\", \"/\", \"**\"."
      ]
    },
    {
      "cell_type": "code",
      "metadata": {
        "id": "Os4HeXLoassa"
      },
      "source": [
        "class DualNumber:\n",
        "  def __init__(self, real, dual):\n",
        "    # dual number: 'real' + 'dual' * eps\n",
        "    self.real = real\n",
        "    self.dual = dual\n",
        "\n",
        "  def __add__(self, other):\n",
        "    # implement the operation \"self + other\"\n",
        "    if isinstance(other, DualNumber):\n",
        "      result_real=self.real+other.real\n",
        "      result_dual=self.dual+other.dual\n",
        "      return DualNumber(result_real,result_dual)\n",
        "        \n",
        "    else:\n",
        "      result_real=self.real+other\n",
        "      return DualNumber(result_real,self.dual)\n",
        "  \n",
        "  def __radd__(self, other):\n",
        "    # implement the operation \"other + self\"\n",
        "    return self.__add__(other)\n",
        "\n",
        "  def __sub__(self, other):\n",
        "    # implement the operation \"self - other\"\n",
        "    if isinstance(other, DualNumber):\n",
        "      result_real=self.real-other.real\n",
        "      result_dual=self.dual-other.dual\n",
        "      return DualNumber(result_real,result_dual)\n",
        "        \n",
        "    else:\n",
        "      result_real=self.real-other\n",
        "      return DualNumber(result_real,self.dual)\n",
        "  def __rsub__(self, other):\n",
        "    # implement the operation \"other - self\"\n",
        "    return DualNumber(other, 0.0) - self\n",
        "\n",
        "  def __mul__(self, other):\n",
        "    # implement the operation \"self * other\"\n",
        "    if isinstance(other, DualNumber):\n",
        "      result_real=self.real*other.real\n",
        "      result_dual=(self.dual*other.real + self.real*other.dual)\n",
        "      return DualNumber(result_real,result_dual)\n",
        "        \n",
        "    else:\n",
        "      return DualNumber(self.real*other,self.dual*other)\n",
        "\n",
        "  def __rmul__(self, other):\n",
        "    # implement the operation \"other * self\"\n",
        "    return self.__mul__(other)\n",
        "\n",
        "  def __truediv__(self, other):\n",
        "    # implement the operation \"self / other\"\n",
        "    if isinstance(other, DualNumber):\n",
        "      result_real=self.real/other.real\n",
        "      result_dual=(self.dual*other.real - self.real*other.dual)/(other.real**2)\n",
        "      return DualNumber(result_real,result_dual)\n",
        "    else:\n",
        "      return (1/other) * self\n",
        "\n",
        "  def __rtruediv__(self, other):\n",
        "    # implement the operation \"other / self\"\n",
        "    return DualNumber(other, 0.0).__truediv__(self)\n",
        "\n",
        "  def __pow__(self, other):\n",
        "    # implement the operation \"self ** other\"\n",
        "    return DualNumber(self.real**other, other*(self.real**(other-1))*self.dual)\n",
        "    #temp = self\n",
        "    #for i in range(other-1):\n",
        "    #  temp=temp.__mul__(self)\n",
        "    #return temp\n",
        "\n",
        "  def __repr__(self):\n",
        "    return repr(self.real) + ' + ' + repr(self.dual) + ' epsilon'\n"
      ],
      "execution_count": 20,
      "outputs": []
    },
    {
      "cell_type": "code",
      "metadata": {
        "colab": {
          "base_uri": "https://localhost:8080/"
        },
        "id": "pKo0lYQKK9PJ",
        "outputId": "0012a38f-21cb-4535-9587-6f8bed5e8069"
      },
      "source": [
        "x=DualNumber(1,2)\n",
        "y=DualNumber(1.5,3.1)\n",
        "print(x/y)\n",
        "print(x*y)\n",
        "print(x**3)\n"
      ],
      "execution_count": 21,
      "outputs": [
        {
          "output_type": "stream",
          "name": "stdout",
          "text": [
            "0.6666666666666666 + -0.04444444444444448 epsilon\n",
            "1.5 + 6.1 epsilon\n",
            "1 + 6 epsilon\n"
          ]
        }
      ]
    },
    {
      "cell_type": "markdown",
      "metadata": {
        "id": "gywkm3dK5OVe"
      },
      "source": [
        "Define the dual numbers\n",
        "\n",
        "$$\n",
        "\\begin{split}\n",
        "x &= 1 + 2 \\epsilon \\\\\n",
        "y &= 1.5 + 3.1 \\epsilon \\\\\n",
        "\\end{split}\n",
        "$$\n",
        "\n",
        "Then, compute the result of the following operations:\n",
        "- $x + y$\n",
        "- $x - y$\n",
        "- $x y$\n",
        "- $x / y$\n",
        "- $x + 1$\n",
        "- $2 x$\n",
        "- $x ^ 3$"
      ]
    },
    {
      "cell_type": "markdown",
      "metadata": {
        "id": "qI1dQB-A5bpr"
      },
      "source": [
        "Define now the functions `my_sin`, `my_cos` and `my_exp`, implementing the operations sinus, cosinus and exponential, respectively."
      ]
    },
    {
      "cell_type": "code",
      "metadata": {
        "id": "ZaUQHJjem390"
      },
      "source": [
        "def my_sin(x):\n",
        "  if isinstance(x, DualNumber):\n",
        "    return DualNumber(np.sin(x.real),np.cos(x.real)*x.dual)\n",
        "  else:\n",
        "    return np.sin(x)\n",
        "\n",
        "def my_cos(x):\n",
        "  if isinstance(x, DualNumber):\n",
        "    return DualNumber(np.cos(x.real),-np.sin(x.real)*x.dual)\n",
        "  else:\n",
        "    return np.cos(x)\n",
        "\n",
        "def my_exp(x):\n",
        "  if isinstance(x, DualNumber):\n",
        "    return DualNumber(np.exp(x.real),np.exp(x.real)*x.dual)\n",
        "  else:\n",
        "    return np.exp(x)"
      ],
      "execution_count": 22,
      "outputs": []
    },
    {
      "cell_type": "markdown",
      "metadata": {
        "id": "TStUre5B5vE6"
      },
      "source": [
        "Define the dual number\n",
        "\n",
        "$$\n",
        "\\begin{split}\n",
        "x &= 1 + 2.3 \\epsilon \\\\\n",
        "\\end{split}\n",
        "$$\n",
        "\n",
        "Then, compute the result of the following operations:\n",
        "- $\\sin(x)$\n",
        "- $\\exp(x)$"
      ]
    },
    {
      "cell_type": "code",
      "metadata": {
        "colab": {
          "base_uri": "https://localhost:8080/"
        },
        "id": "qJHlqv50W3ua",
        "outputId": "5de0dac4-8727-4f0a-e4a2-9a10bc8471c6"
      },
      "source": [
        "x = DualNumber(1,2.3)\n",
        "my_sin(x)\n",
        "my_exp(x)"
      ],
      "execution_count": 23,
      "outputs": [
        {
          "output_type": "execute_result",
          "data": {
            "text/plain": [
              "2.718281828459045 + 6.252048205455803 epsilon"
            ]
          },
          "metadata": {},
          "execution_count": 23
        }
      ]
    },
    {
      "cell_type": "markdown",
      "metadata": {
        "id": "j2YgP93T5zIp"
      },
      "source": [
        "Define now a function `auto_diff` that, given a function $f \\colon \\mathbb{R} \\to \\mathbb{R}$ and a real number $x$, returns $f'(x)$, exploiting the class `DualNumber`. The function must have the following signature:\n",
        "```python\n",
        "def auto_diff(f, x):\n",
        "  ...\n",
        "```\n"
      ]
    },
    {
      "cell_type": "code",
      "metadata": {
        "id": "_SZxNZNaXIMe"
      },
      "source": [
        "def auto_diff(f,x):\n",
        "  x_dual=DualNumber(x,1)\n",
        "  return f(x_dual).dual"
      ],
      "execution_count": 24,
      "outputs": []
    },
    {
      "cell_type": "markdown",
      "metadata": {
        "id": "hHvUj1_C8gyT"
      },
      "source": [
        "Consider the function \n",
        "\n",
        "$$\n",
        "f(x) = x \\sin(x^2)\n",
        "$$\n",
        "\n",
        "and use the function implemented above to compute $f'(x_0)$ for $x_0 = 0.13$. Compare the result with the analytical solution and compute the relative error.\n",
        "\n"
      ]
    },
    {
      "cell_type": "code",
      "metadata": {
        "colab": {
          "base_uri": "https://localhost:8080/"
        },
        "id": "EEFW5UvUYWii",
        "outputId": "5a10c028-1d31-4800-b79e-bd8b9838c505"
      },
      "source": [
        "func = lambda x : x * my_sin(x**2)\n",
        "x0=0.13\n",
        "df_AD = auto_diff(func,x0)\n",
        "print(df_AD)"
      ],
      "execution_count": 26,
      "outputs": [
        {
          "output_type": "stream",
          "name": "stdout",
          "text": [
            "0.050694368849202455\n"
          ]
        }
      ]
    },
    {
      "cell_type": "code",
      "metadata": {
        "colab": {
          "base_uri": "https://localhost:8080/"
        },
        "id": "rSeFN74YZsgR",
        "outputId": "6b181482-2625-4241-d61d-2e28d6df6be8"
      },
      "source": [
        "d_func = lambda x: my_sin(x**2) + x*my_cos(x**2)*2*x\n",
        "df_ex = d_func(x0)\n",
        "df_ex"
      ],
      "execution_count": 27,
      "outputs": [
        {
          "output_type": "execute_result",
          "data": {
            "text/plain": [
              "0.050694368849202455"
            ]
          },
          "metadata": {},
          "execution_count": 27
        }
      ]
    },
    {
      "cell_type": "markdown",
      "metadata": {
        "id": "cMUEXu4d-aae"
      },
      "source": [
        "Repeat the previous point, this time by computing the numerical derivative (i.e. through finite differences)."
      ]
    },
    {
      "cell_type": "code",
      "metadata": {
        "id": "S-V_TQBR9NNw",
        "colab": {
          "base_uri": "https://localhost:8080/"
        },
        "outputId": "7ee8ff06-2e29-4719-e3a6-680c519bd15a"
      },
      "source": [
        "import scipy.misc\n",
        "df_FD = scipy.misc.derivative(func, x0, dx=1e-6)\n",
        "print('f\\'(x0) (FD): %f' % df_FD)\n",
        "print('err (FD): %e' % (abs(df_FD - df_ex)/abs(df_ex)))"
      ],
      "execution_count": 28,
      "outputs": [
        {
          "output_type": "stream",
          "name": "stdout",
          "text": [
            "f'(x0) (FD): 0.050694\n",
            "err (FD): 2.195220e-11\n"
          ]
        }
      ]
    },
    {
      "cell_type": "markdown",
      "metadata": {
        "id": "Is_OfXGT-v6W"
      },
      "source": [
        "Repeat the previous point, this time by computing the symbolic derivative (module `sympy` = **sym**bolic **py**thon)"
      ]
    },
    {
      "cell_type": "code",
      "metadata": {
        "id": "eeqC5uGI9hg2",
        "colab": {
          "base_uri": "https://localhost:8080/"
        },
        "outputId": "e45f947f-b91e-4df2-a97a-79f4f28f251e"
      },
      "source": [
        "import sympy\n",
        "x = sympy.symbols('x')\n",
        "func_sym = x*sympy.sin(x**2)\n",
        "x0 = 0.13\n",
        "\n",
        "dfunc_sym = sympy.diff(func_sym, x)\n",
        "print(dfunc_sym)\n",
        "df_sy = dfunc_sym.subs(x, x0)\n",
        "\n",
        "print('f\\'(x0) (sy): %f' % df_sy)\n",
        "print('err (sy): %e' % (abs(df_sy - df_ex)/abs(df_ex)))"
      ],
      "execution_count": 29,
      "outputs": [
        {
          "output_type": "stream",
          "name": "stdout",
          "text": [
            "2*x**2*cos(x**2) + sin(x**2)\n",
            "f'(x0) (sy): 0.050694\n",
            "err (sy): 1.368770e-16\n"
          ]
        }
      ]
    },
    {
      "cell_type": "markdown",
      "metadata": {
        "id": "MCxUDCRY-9aM"
      },
      "source": [
        "Evaluate and compare the execution time of the different approaches.\n",
        "To compute the execution time of a line of code, prepend IPython [magic command](https://ipython.readthedocs.io/en/stable/interactive/magics.html) `%timeit` to the line.\n",
        "\n",
        "Example:\n",
        "```python\n",
        "%timeit np.random.rand(1000)\n",
        "```"
      ]
    },
    {
      "cell_type": "code",
      "metadata": {
        "colab": {
          "base_uri": "https://localhost:8080/"
        },
        "id": "nFIEDH7Na6sg",
        "outputId": "bfb6bf41-e4f0-4e65-f448-e3b5baebdfd8"
      },
      "source": [
        "%timeit auto_diff(func,x0)"
      ],
      "execution_count": null,
      "outputs": [
        {
          "output_type": "stream",
          "name": "stdout",
          "text": [
            "The slowest run took 12.24 times longer than the fastest. This could mean that an intermediate result is being cached.\n",
            "100000 loops, best of 5: 5.89 µs per loop\n"
          ]
        }
      ]
    },
    {
      "cell_type": "code",
      "metadata": {
        "colab": {
          "base_uri": "https://localhost:8080/"
        },
        "id": "68OY8Qaza7em",
        "outputId": "0ddfcf4a-b243-4875-c891-262f4464305f"
      },
      "source": [
        "%timeit scipy.misc.derivative(func, x0, dx=1e-6)"
      ],
      "execution_count": null,
      "outputs": [
        {
          "output_type": "stream",
          "name": "stdout",
          "text": [
            "The slowest run took 6.80 times longer than the fastest. This could mean that an intermediate result is being cached.\n",
            "10000 loops, best of 5: 24.2 µs per loop\n"
          ]
        }
      ]
    },
    {
      "cell_type": "code",
      "metadata": {
        "colab": {
          "base_uri": "https://localhost:8080/"
        },
        "id": "eSs4qtUbaZWk",
        "outputId": "7d0b2288-6c06-45f0-97dd-639c3ac528fc"
      },
      "source": [
        "%timeit sympy.diff(func_sym, x).subs(x,x0)"
      ],
      "execution_count": null,
      "outputs": [
        {
          "output_type": "stream",
          "name": "stdout",
          "text": [
            "10000 loops, best of 5: 179 µs per loop\n"
          ]
        }
      ]
    },
    {
      "cell_type": "markdown",
      "metadata": {
        "id": "AAi_aPmvFqIZ"
      },
      "source": [
        "Consider now the function \n",
        "$$\n",
        "f(x) = \\frac{1}{x^5}\n",
        "$$\n",
        "compute the derivative in the point $x_0 = 10^{-2}$ with AD and FD and compare the results with the exact solution."
      ]
    },
    {
      "cell_type": "code",
      "metadata": {
        "colab": {
          "base_uri": "https://localhost:8080/"
        },
        "id": "BhEinySqbK5e",
        "outputId": "30bf2958-d639-48be-a785-12f6990b6c75"
      },
      "source": [
        "f_X=lambda x: x**(-5)\n",
        "df_X=lambda x: -5*x**(-6)\n",
        "x0= 10**(-2)\n",
        "df_ex = df_X(x0)\n",
        "df_AD = auto_diff(f_X,x0)\n",
        "df_FD = scipy.misc.derivative(f_X, x0, dx=1e-6)\n",
        "print(\"Exact derivative:\",df_ex)\n",
        "print(\"Derivative w/ AD\",df_AD)\n",
        "print(\"Derivative w/ FD\",df_FD)"
      ],
      "execution_count": 32,
      "outputs": [
        {
          "output_type": "stream",
          "name": "stdout",
          "text": [
            "Exact derivative: -4999999999999.999\n",
            "Derivative w/ AD -4999999999999.999\n",
            "Derivative w/ FD -5000000349996.567\n"
          ]
        }
      ]
    }
  ]
}