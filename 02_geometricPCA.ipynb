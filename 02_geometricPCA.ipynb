{
  "nbformat": 4,
  "nbformat_minor": 0,
  "metadata": {
    "colab": {
      "name": "02_geometricPCA.ipynb",
      "provenance": []
    },
    "kernelspec": {
      "name": "python3",
      "display_name": "Python 3"
    }
  },
  "cells": [
    {
      "cell_type": "markdown",
      "metadata": {
        "id": "4C5ncMKPCGS_"
      },
      "source": [
        "# Geometric interpretation of PCA"
      ]
    },
    {
      "cell_type": "code",
      "metadata": {
        "id": "mf3YmOwwWx3P"
      },
      "source": [
        "import numpy as np\n",
        "import matplotlib.pyplot as plt"
      ],
      "execution_count": null,
      "outputs": []
    },
    {
      "cell_type": "markdown",
      "metadata": {
        "id": "Sv5Re4AsDysz"
      },
      "source": [
        "Define the unit vector\n",
        "$\\mathbf{v}_1 = \\begin{pmatrix} \\cos(\\theta_1) \\\\ \\sin(\\theta_1)\\end{pmatrix}$\n",
        "where $\\theta = \\pi/6$ and a unit vector $\\mathbf{v}_2 \\perp \\mathbf{v}_1$."
      ]
    },
    {
      "cell_type": "code",
      "source": [
        "theta1 = np.pi/6\n",
        "theta2 = theta1 + np.pi/2 #in order to define the orthogonal angle of vector v2\n",
        "\n",
        "v1 = np.array((np.cos(theta1),np.sin(theta1)))\n",
        "v2 = np.array((np.cos(theta2),np.sin(theta2)))"
      ],
      "metadata": {
        "id": "9xI_c_IgubaC"
      },
      "execution_count": null,
      "outputs": []
    },
    {
      "cell_type": "markdown",
      "metadata": {
        "id": "3ecP-NmYGJ0v"
      },
      "source": [
        "Define the point $\\mathbf{b} = \\begin{pmatrix} 20 \\\\ 30\\end{pmatrix}$"
      ]
    },
    {
      "cell_type": "code",
      "source": [
        "b = np.array((20, 30))"
      ],
      "metadata": {
        "id": "P5fuC2SHu96o"
      },
      "execution_count": null,
      "outputs": []
    },
    {
      "cell_type": "markdown",
      "metadata": {
        "id": "HJs9fdkXEWOF"
      },
      "source": [
        "Generate $n = 1000$ points $\\mathbf{x}_i$ according to the formula:\n",
        "\n",
        "$\\mathbf{x}_i = \\mathbf{b} + r_{1,i} \\rho_1 \\mathbf{v}_1 + r_{2,i} \\rho_2 \\mathbf{v}_2$\n",
        "\n",
        "where $\\rho_1 = 12$, $\\rho_2 = 3$ and the $r_{i,j}$ are real numbers independently generated according to a normal distribution. "
      ]
    },
    {
      "cell_type": "markdown",
      "metadata": {
        "id": "-wId2F2EHGwX"
      },
      "source": [
        "Plot the generated numbers in a plane, showing the directions $\\mathbf{v}_1$ and $\\mathbf{v}_2$, rescaled by $\\rho_1$ and $\\rho_2$, respectivaly."
      ]
    },
    {
      "cell_type": "code",
      "source": [
        "rho1 = 12.\n",
        "rho2 = 3.\n",
        "n_points = 1000\n",
        "\n",
        "seeds = np.random.randn(2, n_points)\n",
        "X = b[:, None] + rho1 * np.outer(v1, seeds[0,:]) + rho2 * np.outer(v2, seeds[1,:])\n",
        "\n",
        "X.shape"
      ],
      "metadata": {
        "colab": {
          "base_uri": "https://localhost:8080/"
        },
        "id": "t4a3fctGvDbZ",
        "outputId": "fcd3c4f0-9153-415f-ad06-3692798ccae7"
      },
      "execution_count": null,
      "outputs": [
        {
          "output_type": "execute_result",
          "data": {
            "text/plain": [
              "(2, 1000)"
            ]
          },
          "metadata": {},
          "execution_count": 4
        }
      ]
    },
    {
      "cell_type": "code",
      "source": [
        "fig, ax = plt.subplots(nrows=1, ncols=1)\n",
        "ax.scatter(X[0,:] , X[1,:])\n",
        "ax.arrow(b[0]-v1[0]*rho1,b[1]-v1[1]*rho1,2*v1[0]*rho1,2*v1[1]*rho1, color = 'black')\n",
        "ax.arrow(b[0]-v2[0]*rho2,b[1]-v2[1]*rho2,2*v2[0]*rho2,2*v2[1]*rho2, color = 'black')\n",
        "ax.set_aspect('equal')"
      ],
      "metadata": {
        "colab": {
          "base_uri": "https://localhost:8080/",
          "height": 257
        },
        "id": "db8Nrt9bvqKW",
        "outputId": "23ad5891-063b-471a-e8b6-b74b8ee3e2a6"
      },
      "execution_count": null,
      "outputs": [
        {
          "output_type": "display_data",
          "data": {
            "image/png": "[encoded data removed]",
            "text/plain": [
              "<Figure size 432x288 with 1 Axes>"
            ]
          },
          "metadata": {
            "needs_background": "light"
          }
        }
      ]
    },
    {
      "cell_type": "markdown",
      "metadata": {
        "id": "8aOhBhjlHKIS"
      },
      "source": [
        "Perform PCA on the matrix $X$:\n",
        "\n",
        "$\\boldsymbol{\\mu} = \\frac{1}{n} \\sum_{i=1}^{n} \\mathbf{x}_i$\n",
        "\n",
        "$\\overline{X} = X - \\boldsymbol{\\mu} [1,\\dots,1]$\n",
        "\n",
        "$\\overline{X} = U \\Sigma V^T$"
      ]
    },
    {
      "cell_type": "code",
      "source": [
        "X_mean = np.mean(X, axis = 1) #we do the mean over the 1000 samples\n",
        "X = X - X_mean[:,None] #X_mean is a vector of size 2 => we have to use [:,None] = fake axi\n",
        "U, s, VT = np.linalg.svd(X, full_matrices=False)"
      ],
      "metadata": {
        "id": "uv8sao9nwtt8"
      },
      "execution_count": null,
      "outputs": []
    },
    {
      "cell_type": "code",
      "source": [
        "s"
      ],
      "metadata": {
        "colab": {
          "base_uri": "https://localhost:8080/"
        },
        "id": "8dncrTALxjKT",
        "outputId": "8d596d9e-c7a2-45f6-94db-bf379c3e11d3"
      },
      "execution_count": null,
      "outputs": [
        {
          "output_type": "execute_result",
          "data": {
            "text/plain": [
              "array([380.68750251,  97.6047795 ])"
            ]
          },
          "metadata": {},
          "execution_count": 8
        }
      ]
    },
    {
      "cell_type": "markdown",
      "metadata": {
        "id": "1NHmghTgOlRs"
      },
      "source": [
        "Plot the first two singular vectors, rescaled by the root of the sample variance:\n",
        "\n",
        "${\\sqrt{\\frac{\\sigma_1^2}{(n - 1)}}}{\\mathbf{u}_1}, {\\sqrt{\\frac{\\sigma_2^2}{(n - 1)}}}{\\mathbf{u}_2}$"
      ]
    },
    {
      "cell_type": "code",
      "source": [
        "u1 = U[:,0]\n",
        "u2 = U[:,1]\n",
        "\n",
        "r = s / np.sqrt(n_points -1)\n",
        "\n",
        "fig, ax = plt.subplots(nrows=1, ncols=1)\n",
        "ax.scatter(X[0,:], X[1,:])\n",
        "plt.arrow(X_mean[0]-u1[0]*r[0], X_mean[1]-u1[1]*r[0], 2*u1[0]*r[0], 2*u1[1]*r[0], color = 'red')\n",
        "plt.arrow(X_mean[0]-u2[0]*r[1], X_mean[1]-u2[1]*r[1], 2*u2[0]*r[1], 2*u2[1]*r[1], color = 'red')\n",
        "ax.set_aspect('equal')"
      ],
      "metadata": {
        "colab": {
          "base_uri": "https://localhost:8080/",
          "height": 284
        },
        "id": "celj4yiKxpar",
        "outputId": "f5a0b74c-ee01-4dfc-b1df-e38145247ada"
      },
      "execution_count": null,
      "outputs": [
        {
          "output_type": "execute_result",
          "data": {
            "text/plain": [
              "<matplotlib.patches.FancyArrow at 0x7f70cd179c50>"
            ]
          },
          "metadata": {},
          "execution_count": 12
        },
        {
          "output_type": "display_data",
          "data": {
            "image/png": "[encoded data removed]",
            "text/plain": [
              "<Figure size 432x288 with 1 Axes>"
            ]
          },
          "metadata": {
            "needs_background": "light"
          }
        }
      ]
    },
    {
      "cell_type": "markdown",
      "metadata": {
        "id": "6p6sqZzDIEat"
      },
      "source": [
        "Compute the principal components of the data:\n",
        "\n",
        "$\\Phi = U^T \\overline{X}$"
      ]
    },
    {
      "cell_type": "code",
      "source": [
        "Phi = np.matmul(U.transpose(), X - X_mean[:, None])"
      ],
      "metadata": {
        "id": "eEZIR2Jkzc4e"
      },
      "execution_count": null,
      "outputs": []
    },
    {
      "cell_type": "markdown",
      "metadata": {
        "id": "isLoTYP9EoiJ"
      },
      "source": [
        "Make a scatterplot of the two first principal components ($\\phi_1$, $\\phi_2$)"
      ]
    },
    {
      "cell_type": "code",
      "source": [
        "#data are now centered and rotated to a new frame\n",
        "#we have found a new basis\n",
        "#GEOMETRICAL INTERPRETATION\n",
        "fig, ax = plt.subplots(nrows=1, ncols=1)\n",
        "ax.scatter(Phi[0, :], Phi[1, :])\n",
        "ax.set_aspect('equal')"
      ],
      "metadata": {
        "colab": {
          "base_uri": "https://localhost:8080/",
          "height": 143
        },
        "id": "nUCTF1-3wj8M",
        "outputId": "57aca274-a88a-4ea2-e999-a93a71e4914a"
      },
      "execution_count": null,
      "outputs": [
        {
          "output_type": "display_data",
          "data": {
            "image/png": "[encoded data removed]",
            "text/plain": [
              "<Figure size 432x288 with 1 Axes>"
            ]
          },
          "metadata": {
            "needs_background": "light"
          }
        }
      ]
    }
  ]
}