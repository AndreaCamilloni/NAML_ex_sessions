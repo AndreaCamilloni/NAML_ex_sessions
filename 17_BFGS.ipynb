{
  "nbformat": 4,
  "nbformat_minor": 0,
  "metadata": {
    "colab": {
      "name": "17_BFGS.ipynb",
      "provenance": [],
      "collapsed_sections": []
    },
    "kernelspec": {
      "name": "python3",
      "display_name": "Python 3"
    },
    "language_info": {
      "name": "python"
    }
  },
  "cells": [
    {
      "cell_type": "markdown",
      "metadata": {
        "id": "qdCkH2JM07eu"
      },
      "source": [
        "# Quasi-Newton methods: BFGS\n",
        "without computation of the hessian=> we exploit only the gradient"
      ]
    },
    {
      "cell_type": "code",
      "metadata": {
        "id": "T9vAduWLjiTl"
      },
      "source": [
        "import numpy as np\n",
        "import jax\n",
        "import jax.numpy as jnp\n",
        "import scipy.optimize\n",
        "import scipy as sp\n",
        "import matplotlib.pyplot as plt\n",
        "\n",
        "# We enable double precision in JAX\n",
        "from jax.config import config\n",
        "config.update(\"jax_enable_x64\", True)"
      ],
      "execution_count": 4,
      "outputs": []
    },
    {
      "cell_type": "markdown",
      "metadata": {
        "id": "VQmGG5duO6ig"
      },
      "source": [
        "Consider the [Rosenbrock function](https://en.wikipedia.org/wiki/Rosenbrock_function), that is minimized in $\\mathbf{x} = (1,1,\\dots,1)^T$:\n",
        "\n",
        "$$\\mathcal{L}(\\mathbf{x}) = \\sum_{i=1}^{N-1} [100 (x_{i+1} - x_i^2 )^2 + (1-x_i)^2]$$"
      ]
    },
    {
      "cell_type": "code",
      "metadata": {
        "id": "Ybmumhr1z32F"
      },
      "source": [
        "def loss(x):\n",
        "    return sum(100.0 * (x[1:] - x[:-1]**2)**2 + (1 - x[:-1])**2)"
      ],
      "execution_count": 5,
      "outputs": []
    },
    {
      "cell_type": "markdown",
      "metadata": {
        "id": "opnXVnczPDLj"
      },
      "source": [
        "Use `jax` to compute and compile the Rosenbrock function and its gradient."
      ]
    },
    {
      "cell_type": "code",
      "source": [
        "loss_jit = jax.jit(loss)\n",
        "grad_jit = jax.jit(jax.grad(loss, argnums=0))"
      ],
      "metadata": {
        "id": "AAu-MZNyqtox"
      },
      "execution_count": 6,
      "outputs": []
    },
    {
      "cell_type": "markdown",
      "metadata": {
        "id": "CEvFRykGQtzx"
      },
      "source": [
        "Implement the BFGS method (with line search) for the minimization of the Rosenbrock function.\n",
        "Set a maximum of 1000 epochs and a stopping tolerance on the gradient eucledian norm of $10^{-8}$. Employ an initial guess for $\\mathbf{x}$ with random numbers in the interval $[0,2]$."
      ]
    },
    {
      "cell_type": "code",
      "metadata": {
        "id": "t3IJUnuTZdS1",
        "colab": {
          "base_uri": "https://localhost:8080/",
          "height": 320
        },
        "outputId": "4595a78b-fa83-4774-d68b-67de13ab60b8"
      },
      "source": [
        "N = 100\n",
        "max_epochs = 1000\n",
        "tol = 1e-8\n",
        "\n",
        "np.random.seed(0)\n",
        "x = np.random.rand(N)*2\n",
        "\n",
        "grad = grad_jit(x)\n",
        "I = np.identity(N)\n",
        "Binv = I.copy()\n",
        "\n",
        "hist = [loss_jit(x)]\n",
        "epoch=0\n",
        "\n",
        "while (epoch < 1000 and np.linalg.norm(grad)>tol):\n",
        "    epoch += 1\n",
        "    # search direction = -Hessian @ grad\n",
        "    p = -Binv @ grad\n",
        "    \n",
        "    # line search: search along the straight line\n",
        "    line_search = sp.optimize.line_search(loss_jit, grad_jit, x, p)\n",
        "    alpha = line_search[0]\n",
        "    x_new = x + alpha * p\n",
        "\n",
        "    #update of Binv\n",
        "    grad_new = grad_jit(x_new)\n",
        "    y = grad_new - grad \n",
        "    s = x_new - x\n",
        "    x = x_new\n",
        "    grad = grad_new\n",
        "    rho = 1.0/np.inner(y,s)\n",
        "    E = I - rho * np.outer(y,s)\n",
        "    Binv = E.T @ Binv @ E +rho * np.outer(s,s)\n",
        "\n",
        "    hist.append(loss_jit(x))\n",
        "\n",
        "print(\"%d epochs\" % epoch)\n",
        "x_ex = np.ones(N)\n",
        "err = x -x_ex\n",
        "print(\"error %1.3e\" % np.linalg.norm(err))\n",
        "plt.semilogy(hist, 'o-')\n",
        "\n",
        "\n",
        "    "
      ],
      "execution_count": 9,
      "outputs": [
        {
          "output_type": "stream",
          "name": "stdout",
          "text": [
            "522 epochs\n",
            "error 9.910e-11\n"
          ]
        },
        {
          "output_type": "execute_result",
          "data": {
            "text/plain": [
              "[<matplotlib.lines.Line2D at 0x7f2ee9a3c650>]"
            ]
          },
          "metadata": {},
          "execution_count": 9
        },
        {
          "output_type": "display_data",
          "data": {
            "image/png": "[encoded data removed]",
            "text/plain": [
              "<Figure size 432x288 with 1 Axes>"
            ]
          },
          "metadata": {
            "needs_background": "light"
          }
        }
      ]
    }
  ]
}