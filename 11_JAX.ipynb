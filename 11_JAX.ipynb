{
  "nbformat": 4,
  "nbformat_minor": 0,
  "metadata": {
    "colab": {
      "name": "11_JAX.ipynb",
      "provenance": [],
      "collapsed_sections": []
    },
    "kernelspec": {
      "name": "python3",
      "display_name": "Python 3"
    }
  },
  "cells": [
    {
      "cell_type": "markdown",
      "metadata": {
        "id": "e7q1DhWpV-Dw"
      },
      "source": [
        "# Auto-diff with JAX\n",
        "\n",
        "https://github.com/google/jax"
      ]
    },
    {
      "cell_type": "markdown",
      "metadata": {
        "id": "Snjf4u7vf0sa"
      },
      "source": [
        "JAX is a Google research project, developed by the former developers of [Autograd](https://github.com/hips/autograd), bringing together the potentialities of Autograd and the linear algebra accelerator [XLA](https://www.tensorflow.org/xla). It is based on three pillars(we only use the first two..):\n",
        "- `grad`: Automatic Differentiation\n",
        "- `jit`: Just-in-time compilation\n",
        "- `vmap`: Automatic vectorization.\n",
        "\n",
        "## Automatic differentiation in JAX\n",
        "\n",
        "JAX augments numpy and Python code with function transformations which make it trivial to perform operations common in machine learning programs. JAX's augmented numpy lives at `jax.numpy`. With a few exceptions, you can think of `jax.numpy` as directly interchangeable with `numpy`. As a general rule, you should use `jax.numpy` whenever you plan to use any of JAX's transformations.\n",
        "\n",
        "The function `df = jax.grad(f, argnums = 0)` takes the callable object `f` and returns another callable object, `df`, evaluating the gradient of `f` w.r.t. the argument(s) of index(es) `argnums`. For more information, check out the [documentation](https://jax.readthedocs.io/en/latest/jax.html?highlight=grad#jax.grad).\n",
        "\n"
      ]
    },
    {
      "cell_type": "markdown",
      "metadata": {
        "id": "yBVAFA6LiZhv"
      },
      "source": [
        "**Example**\n",
        "\n",
        "We consider the function:\n",
        "$$\n",
        "f(x) = x \\sin(x^2)\n",
        "$$\n",
        "\n",
        "and we compute $f'(x_0)$ for $x_0 = 0.13$"
      ]
    },
    {
      "cell_type": "code",
      "metadata": {
        "id": "pJsIHEuC0BwB",
        "colab": {
          "base_uri": "https://localhost:8080/"
        },
        "outputId": "2bd76d3c-14b6-4af1-c20e-293c58554850"
      },
      "source": [
        "import numpy as np\n",
        "import jax.numpy as jnp #we have to use the model numpy of jax(clone of numpy that can be use by jax)\n",
        "import jax\n",
        "\n",
        "func = lambda x : x * jnp.sin(x**2) #we have to use the module jnp for the sinus\n",
        "x0 = 0.13\n",
        "dfunc_AD = jax.grad(func) #grad take as input also argnums which is the index of the input of f w.r.t which we want to compute the derivative\n",
        "df_AD = dfunc_AD(x0)\n",
        "\n",
        "# analytical derivative\n",
        "dfunc = lambda x : np.sin(x**2)+2 * x**2 * np.cos(x**2)\n",
        "df_ex = dfunc(x0)\n",
        "\n",
        "print('df (ex): %f' % df_ex)\n",
        "print('df (AD): %f' % df_AD)\n",
        "\n",
        "print('err (AD): %e' % (abs(df_AD - df_ex)/abs(df_ex)))"
      ],
      "execution_count": 28,
      "outputs": [
        {
          "output_type": "stream",
          "name": "stdout",
          "text": [
            "df (ex): 0.050694\n",
            "df (AD): 0.050694\n",
            "err (AD): 7.348529e-08\n"
          ]
        }
      ]
    },
    {
      "cell_type": "markdown",
      "metadata": {
        "id": "XQ300MPyitUl"
      },
      "source": [
        "# Artificial-Neural-Network gradient computation in JAX"
      ]
    },
    {
      "cell_type": "markdown",
      "metadata": {
        "id": "y-_yZkNykJjr"
      },
      "source": [
        "Forget for a wile about JAX. We want to build a fully connected ANN with the architecture shown below (1 input, 1 output, 2 hidden layers with 4 and 3 neurons respectively), with `tanh` as activation function."
      ]
    },
    {
      "cell_type": "markdown",
      "metadata": {
        "id": "Azp8tw3YkCYB"
      },
      "source": [
        "![Screenshot from 2020-10-28 19-54-43.png](data:image/png;base64,iVBORw0KGgoAAAANSUhEUgAAATQAAACyCAYAAADMHzPuAAAABHNCSVQICAgIfAhkiAAAABl0RVh0U29mdHdhcmUAZ25vbWUtc2NyZWVuc2hvdO8Dvz4AACAASURBVHic7Z15XJRV+8YvVoFhFUHAYd9kVTEze7WfS5lGWUppbmlmaZkbKSYimuKGhltqZqapuCPmK2mpqKmpGYSssg3LDItswzbDNsz8/qBnXlAGZnkeGPB8Px//YuacMwgX5znnvq9LQyKRSEAgEAi9AM3uXgCBQCDQBRE0AoHQayCCRiAQeg1E0AgEQq+BCBqBQOg1EEEjEAi9BiJoBAKh10AEjUAg9BqIoBEIhF4DETQCgdBrIILWQ2lubkZWVhbEYnF3L4VAUBu0u3sBBPlISkpCamoGHj16grw8DsrKCmAzYCgKC/6GhaUt7Gwd8fLLHvD0dIO3t3d3L5dA6BY0SHO6+rNx4y5wcqpQWaUDFosNA5YtDAxspF8XCngQCHgQCngwNWmCi4sZ1qxZ2o0rJhC6ByJoakx8fDJWr16Pvv3Go7/V/8n9vuKiW6iujMWWLesxaJAHgyskENQLImhqSmTkJZw5+yvYdvOgq2ui8PsbG/jg5v2EGTMmYfr0txlYIYGgfhBBU0OOHz+HqAvxcHCaq/JYOdk/YeoHwzFz5hTVF0YgqDnkllPNSEvLxqnTMbSIGQA4Os/D8RPRyMjIpWU8AkGdITs0NeOdSbNhw/4U+vr9aRuzTliM4qIj+OXiUdrGJBDUEbJDUyO+++4Q9A1eplXMAEDfwAq6fYZg//7DtI5LIKgbRNDUBB6PhwcP02EzYDwj4w9gT8C9P1NQWFjIyPgEgjpABE1NyMvLQ1U1s3NUVwP5+fnMTkIgdCNE0NSEhw/ToKfHZnSOPnpsxMU9YXQOAqE7IYKmJmRlZcGAxaygsVi2SEvLZHQOAqE7IYKmJuTnc8Bi2TE6B4tli/x8DqNzEAjdCRE0NUAoFMLE1FKpjgBF0O1jBkMjMzQ0NDA6D4HQXRBBUwMMDAzQUC9AnbCY0XmEggI0NTWgT58+jM5DIHQXRNDUBCdnZwgEXEbnEAi4cHJ0YnQOAqE7IYKmJnh7uUHIsKAJBVwkJcVh/fr1iIqKQnp6Opqbmxmdk0DoSojBo5rg6+uGs+duMzpHQwMP06a9i+rqavz+++84ceIE9PT04OnpCW9vb/j4+MDJyQmamuTvHKFnQgRNTfD29oaxsQQSiQQaGhq0jy+RNMPMTAszZ86EtnbLf3tJSQmSkpKQlJSEmJgYHDt2DAYGBvD09ISPjw98fHzg4ODAyHoIBCYgzelqxK1b97AjIgourgtoHzsr4wBWBX2IUaNekfma4uJiJCYmIjk5GUlJSaisrISxsbF09+bt7Q02m9laOQJBFYigqRkLFq5BrcANFpayhUdRSkvuw8Q4B/v3faPQ+3g8nlTckpOTUV1dDVNTU6m4+fr6wsrKirZ1EgiqQgRNjYiJicHRo0dRWMiH37AIaGmpXl4hEtXhn79Xgs3ui4ULF2LMmDFKjSORSMDlcqWPqCkpKaitrYW5ubl0B+fj4wNLS0uV19zdlJaWgsViwcDAoLuXQlAQImhqQF1dHfbu3Yv79+/Dy8sL06dPR0jId7Bmf6xSsW1DAx9FBT9jy+YliIyMREpKCsaOHYsFCxZAV1dXpTWLxWLk5eVJBS41NRVCoRCWlpbS3Zu3tzfMzc1VmodpRCIR/vzzT8THp+NxYjpKS/Kgo2uM2tpSGLJMYGPjgCFD3OHt7YJXXqFv10xgBiJo3UxeXh62bduGoqIiBAQEYMaMGdDU1ER+fj4+W/AVzMzeQH9r+QNSKIqLbqKAewlr1izBhAkTIBaLcfLkSURFRcHOzg5ff/01rK2tafscYrEYmZmZ0kfUtLQ0NDY2wsrKSrp78/b2hpmZGW1zqsq9e38hPHw3tHVsoaU9AAYsNlgGbOjoGgMA6utL/03U4kJbiw9d3Qrs2P4N+ven16+OQB9E0LqR2NhYHDx4ELq6uli+fDn8/Pyee8269TsRF5cFB6dPoK3N6nRMkUiIXM4PGDZsIIwMmxEXF4fw8HAMGDAAABAfH4+dO3dCJBJhyZIlGDFiBO2fq2UdImRmZkp3cOnp6WhqasKAAQOkAufj4wMjIyNG5u+MtWt34J8ELpxcPoWmpo5c7xHU5iMn+0fMmBGAefOmMrxCgjIQQesGRCIRDhw4gNjYWLi6umLlypWwsLCQ+fqEhATs338c+VweNDX/3Umw2NA3YEMo4EIo4EEo5EHcXAg7OzYWL54LHx8fNDY2IjAwEAAQEREhfcwsKytDeHg4MjMz4e/vj7lz50pLOZiisbERGRkZUoHLzMxEc3MzHBwcpOLm6enJ+LlVVVUVpk37GH37+cOy/0ilxijgRsHY6CkOHdpJavbUDCJoXUxpaSm2b9+ulJiUlpYiJSUTCQlPwOPlorFRBF1dbdjaOmHwYDd4ebmhX79+bd5TUFCAoKAgDB06VCpuQIuoHj16FDExMXB1dUVwcDBMTU1p/awd0dDQgCdPnkhvUDMzW2yNHB0dpedvnp6e0NPTo23OmpoaTJ/xOewdl0NHx1ClscrL/oaebhwOHYqgaXUEOiCC1oW0ftxbvHgxXn311S6ZNy4uDmFhYZg1axYCAgLafO3+/fvYs2cP9PT0sGLFCnh5eXXJmp6lvr4eqampSE5ORmJiInJycgAArq6u0lvUgQMHqtRYP/fjpdDSHg8jYxda1lzAu4qRr7KwdOl8WsYjqA4RtC6g9YG8tbU1QkJCYGNj06VrOHbsGC5evIiwsDB4enq2+VpRURG2bt0KHo+HGTNmYMqUKd3eHSAUCpGamip9RM3NzYWWlhZcXV2lj6hubm5y39b+9NNZ/PdyJuwd36d1nanJ2xDx7dfw9najdVyCchBBYxg+n49vv/0WKSkpGDFiBBYvXgx9ff0uX4dEIsGmTZuQlZWFHTt2PPdo2tjYiIMHDyI2NhZ+fn5Yvnw5DA1Veyyjk5qaGqm4JSUloaCgADo6OnB3d28jcFpaWs+99+nTp5gzZykGeilWWCwPDQ0VKOTuxS+/nKR9bILiEEFjkJSUFOzYsQO1tbWYO3cu/P39u3U9QqEQS5cuhbGxMcLDw9v95b958ya+//57GBsbIygoCK6urt2w0s7h8/nSEpGkpCQUFxfLbLRft24LeEWDYWTEjHVSRektTJhghhkzyM1nd0MEjQEkEgkuXLiAkydPom/fvmolDBwOB6tXr8bo0aPx+eeft/ua/Px8bN26FaWlpfj444/x1ltvdfEqFae8vFwqbsnJySgpKZE22l+//ie8fDfKVfaiDPyKxzAzScSuXWGMjE+QHyJoNFNTU4Ndu3YhPj4efn5+WLZsWbfVWskiNjYWe/fuxeLFizF27Nh2X1NfX489e/bg/v37GDFiBJYsWULrjSPTUE4iDx8+xG+/x2HI0M2MzdXQUIH8nD2IiTnF2BwE+dBav379+u5eRG8hMzMToaGhyMnJwcyZM7FgwQK1tLt2dHQEn89HVFQUhg4d2m71vra2Nv7zn//AyMgIv/76K+7evQs/Pz+1E2dZsFgsODk5QUtLCw8eFMK830uMzaWtrY8C3hVMmeKvlv/fLxKkKpAmYmJiEBwcDJFIhA0bNiAgIKDbbwo74rPPPgObzcaWLVtQVVUl83X+/v7YvHkzmpqaEBgYiPv373fhKlWnJR7QlvF5jI3tkJWVxfg8hI4hgqYidXV1CA8Px48//gh3d3dERER0Wy2XImhpaWH16tVoampCeHg4Ojp5cHV1xc6dO+Hp6Sn9rCKRqAtXqzxFRVUwMGC+REZbxwHFxcyG3BA6hwiaCuTl5eGrr77C/fv3ERAQgA0bNqhV83Vn9OvXD0FBQUhLS8Px48c7fK2hoSFCQkIwa9YsXLlyBcHBwSgrK+uilSqPk5MVamtzGJ9H1JgOR0dHxuchdAwRNCWJjY1FUFAQampqsHbtWsyaNatH9vV5enpi5syZiI6ORlxcXIev1dDQkAp3aWkpli9fjvj4+C5aqXK4uLhAKOAxPg+fnw9nZ2fG5yF0DLnlVJDWBah2dnYICQnpsLG8pxAWFoa0tLQ2zhwdUVlZic2bNyMzM7ON7ZE60DorISEhAVnZpXjpZeZ6LuuERSh9+jMuXDjC2BwE+SCCpgClpaUICwtDfn4+bUaJ6oJQKERQUBCAts4cHdG6wd3LywsrVqzo0gZ3ivZq0LS1teHq6gpfX18cO34e9o4r0KcPM8cBZaV/wY6dj82b1zAyPkF+iKDJCdVY3tjYiAULFsis3+rJFBQUIDAwEMOHD2/jzNEZrRvcg4ODGS8irqqqQmJiYpsuAU1NzTZ9nu7u7tISip079yHhsQXMzAcxsp6igmjMnuWNt99+m5HxCfJDBK0Tnm0sX7VqFezt7bt7WYxx584dREREtOvM0RFUg3thYSHt3QU1NTVtGtXz8/OhoaEBBwcH+Pr6wsfHB15eXh0W/o4d9za8fbZAU4veHXUlPwXcvOOwtmZh0qRJmDRpUo8qQO5tEEHrAHVpLO9qDh8+jJiYmHadOTqi9fmiKt0F7TltSCQSsNnsNnbeihT5Xrt2DxE7T8HdY7HC6+mI+EfLcOrUj7h8+TKuX78OfX19TJ48GRMnTiTC1g0QQZOBujWWt8fTp08Z8bdvbm5GaGgoCgoK2nXm6Ayqwd3c3Bxff/017OzsOnx9e15oYrEYlpaWUgHz9fVVuiSG2j2mpOTBwtIf/a1fU2qcZ8nJPopP5o3FpElvAGg5Yz19+jRu3boFFouFyZMnw9/fv9ecs/YEiKA9g7o2lufm5iIrKwv3HzxBZmYWnj7NBZvtjsKCDFj2d4CHhyuGveQOFxcXWh6Jq6qqsGLFig6dOTqCanAvLy9/Lj6vPbdasVgMMzMzaWKUr68vLZF41PmetrY2li9fjkOHzqBa4AkLC9USnPLzTmHim+749NPpz32tqKgI58+fx61bt2BiYoKAgAC8+eabjNucE4igtUFdG8sPHjyK+w8yUFWlAd0+A8Bi2cKAxYa2tgFEIgEEAh6EAh4a63kwNdPAqyPc8emnH6k8L4fDQVBQEMaNGyfTmaMjWje4DxkyBE5OTkhNTUVmZiZEIhEMDQ2lVj++vr60prI/azEeFBSEfv36QSgUYsqUOdDWcYCLm+JOsw315cjJPgR//1FYvHheh68tKirCqVOncPfuXZibm+ODDz7A2LFjibAxCBG0f8nMzER4eDgqKirUxrU1Kysfq1ath4aWD9i28h+y87iXAXEawsPXw8lJNZG4evUqDh482KEzx7M0Nze3CURJTU2FWCyGpqYmPDw8MGzYMPj4+MDBwYGR2rXWNXKtcxtam1yOHfsuDh8+BCfXhTAxcZdr3KLCGxDU3MW2bd/Ay0v+XTuXy0VkZCQePnyIfv364YMPPsC4ceMU3vUSOocIGv6XWG5oaNitvvqt+f33m/g24jDsHT9RqhdRIOAhP+cwVq5cgNdfVzzXszV79uzBvXv3sGXLFjg5PW+SKBaLweFwpI+QqampqK+vlzrKUudfZ86cQW1tLaPxedTZZ319/XPznD59GmfPnpVedjQ0NGDt2i14/DgJOroD0KfPv4lahg5oFglbdr5CHhobeNDSqsHr40Zh6VLFd6oUHA4HZ8+excOHD2FlZYVp06Zh1KhRRNho5IUWtGcTy7/66iu16MW8cuUaDhy4CifXz1QeKzfnED5f8BbefFP5urnGxkasXr0a1dXV2L17N/T09NpNTW9dzOrj4wNXV9c2B+K1tbXYuXMn4uPj4e/vj3nz5tG2Q2t99slms58LUo6Li8OmTZswc+bM58pRKisrkZWVhQcP0sDj5aCg8CkgEcHJyQVOTk546aWBsLe3p82SnMPhIDIyEvHx8VJhe+2119Sm06In88IKWuvEcrp/uVRbVzE+/XQZPH3o879PfhyCU6f2K92iJZFIkJiYiM2bN8PAwAAikQi1tbXQ1NSEk5OT9AzMw8OjUz+w1sLj4eFBS3dBa6Fsr4OjrKwMS5cuhYeHB0JCQlSai07S09Nx9uxZxMfHw9bWFh9++CFeeeUVtfg57Km8kIJGJZZramp2aZycPHww9TOYmn0AlmHHpQ6KUFuTC0HtRZw6eUDu9/B4PKlnf3JyMqqrq6Vfc3Z2xtSpU+Ht7a10MDD1aAhApcd86uyzurr6udtU4H+7y4aGBoSHhzMeZKwMGRkZOH78OJKTk6XCNmLEiG4/w+2JvFCC9mxj+apVq7o8Tq4jDh+OxK9XC2FrN4n2sfPzLmLS23aYO/f5MgOgpaE7ISFBKmKVlZUAAGtra2ktmI+PD65cuYIzZ84gJCQEQ4cOVWlNlZWV2LFjB9LS0pS6iPn1119x5MgRWFhYyKx3o87/IiIi5Gq6705SUlJw+vRpJCcnw9HRETNmzMBLLzHntNsbeWEErbCwENu2bVPbxvKioiKsDPoW/Sw/ZWyOkuKD2L1rNSwsLNpt6AYAc3Nz6SOkr68vzM3N24xB3RQq4szREa1by+SNz5M374C6oQ0MDMSoUaNUWmdXkpKSgmPHjiEjIwPu7u6YPn06Bg1ipg+1t/FCCNqff/6JvXv3QiwWq21j+f3797Fp8zm4uC1gbI7MJ/swZIgxysvLpe6qxsbGbXZg8uxYqTi8Pn36yO3M0RlU87+enl6HxcytE6k66uCgaugmTpyITz75ROX1dQd///03Tp48iZycHLi5ueGjjz5Sixt4daZXC5pYLMZPP/2EmJgYtW8s37fvKG7ergDblrkWK27+JdQL/8Z//jNIehNpZ2en1FkNFYenqDNHR5SVlSE8PBw5OTntNrjfv38fu3bt6jQzlOpysLS0xIYNG3p0WYREIkFcXJxU2Ly9vfHhhx8SYZNBr0194vP52Lx5M+7du4cRI0Zg7dq1CvckdiXHjp2DBO7Q16e/N5OiWSSEtbUYWzavg5ubG0xNTZU+eDYzM4O5uTnOnTsHFosFd3f5ilM7wsDAAGPGjEFpaSmioqKQn5+PYcOGQSKR4KeffsLRo0cxaNAgrF+/vk1JRmuam5sRFhaGyspKhIWF9XgzAQ0NDdjY2GD8+PGws7NDXFwcLl68iJSUFLDZ7OeOBF50euUOrSc0lj/LpEnTwbZbCl2GTAgBoL6+DMUF+3HxYiRtYx44cAA3btzAhg0bFHLm6Ayqwd3CwgI6OjrIzc1FQEAAZs6c2aEIHz58GFeuXKF9PeqCWCzGgwcPcPr0aXC5XPj5+WHmzJntFjy/iPSqHRpV47Rnzx6wWCyEhobilVdUa0LuCgQCAa7feAAjY3pcIGShrW2A5uZkTJwwGjo6OrSM6efnh0ePHuH69esYOXIkbWURjo6OMDIywu3bt8Hn8/H+++9j1qxZHYrZnTt38PPPP+Pjjz/GyJEjaVmHuqGhoQFbW1u8+eabsLa2xoMHD3DhwgXk5ubCxsZGLQrDu5Nes0NT18ZyeZky5SNYWM1n9JGzTliM8tKjOH+eXu/7srIyrFixAubm5ko5czxL65tPZ2dnmJqaIi4urk1f5rMo67bb02lubsaNGzdw7tw5lJWVYfjw4Zg5cyZsbZnPIlVHesUOjUosz87ORkBAAL788ssel2D96FEiKiu1Gc2QrKpMhS1bA+PHq9bb+SwGBgZwc3PDxYsXwefzMWzYMKXHqqysxKZNm3D79m34+/tjxYoVGD16NIyMjBAVFYX4+HgMGTKkzU5QKBRi3bp16Nu3L4KDg3v0JYCiaGpqwtnZGW+99Rb69euHu3fv4sKFCygoKACbzYaJiUl3L7FL6fGCFhMTg2+//RYAsGrVKrz55ps9osKaauj+448/cO7cOSQkpEAsYcHEdCBjc5aVPkRRYRwyM9NQXl4OLS0tmJmZ0dJqY2FhAX19fZw/fx6WlpZKZVSmpKRg3bp1KC0tRWBgIN59913p2tzc3DBkyBDcuHEDMTExcHBwkF4MbNu2DVwuF5s2bepRu3I6aS1sxsbGuH37Ni5evIiCggI4ODi8MN+XHvvI2bqx3NXVFStXrlTrODmJRAIej9emmLW2thYAYGlpiX79+iHhcSVc3ZcwtoaMJ7sw7CVLlJSUSOvQ9PT04OnpKfUlc3JyUkngIiIi8PDhQ5nOHLKIioqS2VjemtZ9mwEBAdDT08PJkyexZs0alTsXehONjY24du0aoqKiUFVVhdGjR+P999+X+X3tLfRIQSssLERYWJi0sVzWuUp3U1hYiMTERGk7EdUPaW5uLnVm9fb2hqWlJYRCIRYsXA1ziy8YW0956T4c+iEcenp6MjsFDAwM4OnpKS20dXBwUGjH29jYiMDAQDQ0NGD37t2dXhK0rvqXt4ODuvyJjIyERCLB5MmT8dFHqhta9kYaGxsRExOD6OhoCAQCjB49Gh9++KFa//FXhR4naH/99Rd27twJAFi0aJFa3WaVlJRIxSspKQnl5eUAAFNTU2mwh6+vL6ysrNp9/5Ur1/DDoVuwd6T/lzMn+wgWffEmxo8f0+7XZfVyGhsbS3dv3t7ecrnKFhQUICgoCB4eHlizZo1MQezIprszysrKsGzZMjQ2NsLExERtrNLVlfr6ely6dAmXLl1CQ0MDXn/9dUydOrXX3Yr2GEETi8U4cuQILl++DGtra4SEhHR7Yzmfz2+TD0ntclqLgI+Pj0L9jp9+FozGpsEw60tf7155eTy0NRNw5Kdtcr9HltuGvOIcFxeHsLAwmbsnRYNUWtPan23Dhg3Yt28f0tPTaY/P640IBALExMTg0qVLaGpqwoQJE/Dee+/1GmHrEkFraGhQ6daxdZzc2LFjMX/+/G6pAK+pqZEmEyUnJ4PH4wEADA0N4eXlJRUwW1tbpS8mJBIJxoyZgMFD99CyZolEjL/ufw47u/4K74Jar4nL5UqFOyUlRXr+Rz0+U5+9dbDJsWPHEB0d3caZg46ou2cddFuXeagSn0dRX1/f6yPoBAIBoqOjERMTA7FYjAkTJiAgIADGxsaMzltTU8PoBQXtgpaamoonT7IR/88TcDg5ePo0F/r6RtDXY8HJyRne3m7w8XHFoEGD5Pqlp6r+hUJhlzeWy8qHpPsg/VkSE9OwNnQf7B0/h6am8meDYnEj8nK+x9er5iEmJlr6B0FVpxGxWNyuYy3QcsFB7d68vLywc+dO5ObmIjw8HJqamtIwYmU7ODrKOKAa3I2MjOTe9YnFYiQmJiIxMQOPH2cgP5+DhoY6CIRV6N/fAc7OzvAb4g43N8de2T9ZXV2NS5cuISYmBgDg7++PSZMm0SJs6enpyM/Px6NHT5D2JBNPn+aiXz826oQ1sLNzgq9vixYMHjyYNucb2gRNKBQiKGgdip82oklk1pJMZMCGAYsNTU1tCIWFEAp4EAi4kIgLYchqwvr1K+Hi4tLueK2dTfv3798ljeUNDQ1tBIzD4UAsFkNXVxceHh7SRy0XFxfGa50eP07DsmWBYNvNgnk/xT2xykr/QgHvFPbsjoCPz8A2uxg7O7sObxIVRVamANAicNXV1dDS0oJIJIKRkZHS513ypFBRDe55eXmd7kgzMjKwbv0O1NX1gaamDQxYLT+vBgY2EItFEAq40kQtXd0qWFvpIjz8m165e6uurkZUVBSuXr0KTU1N+Pv7Y/LkyWCxWEqNFxq6DdmcCtTU6Ei/ryyWLbS09FBfVwKBsOX72txUCD09IRYu/AijR/9H5c9Bi6CdOXMFBw/uh73jfLnrqBoa+MjJOoixY19FUFBbD7C6ujrs2LED8fHxjCaWNzY2IjMzE0lJSUhMTJTGq1HhHtRjlKura7fdoi5esh55+UI4OctvgcPJOgRHRxPs3rX2ua9RuxiRSMRYWEnr1KfExESkpaVBLBYDaDGMHDRokPR7K+/jhyI5oa0j7GTtSLduPYjbf/wFR+cF0NWVr/i0qjINOZxDWPTFEnzwwZtyvaenwefzcfHiRVy9ehU6OjqYNGkSJk2aJLeIP3z4D9asWY/+1u/BwlI+J2iJRAJO1iG4u/fFju1rVFm+6oK2dGkI8rmAveNspd5fwP0VmhrJOHr0O+jr60u9/ktLSzFnzhy8/fbbqiyvDdQvGnUOlp6ejqamJmm4B/VL5ubmplbmj9ev38Kx4+dRXl4HLS0baS6nvsEA1Albdr1CQQGaRQXoa26Aj+dOw9ixsg0NqV3MszFvdNPakdbd3R2pqano378/KioqIBKJoKGhAQcHB+n33dPTs90yD4lEgpCQEIWT3KmQYUtLS+mOVCgUYs7cRYDGYAxgT1Dqc+VxfoaDgzZ27tyg1Pt7Anw+H2fPnsX169ehr6+PyZMnY+LEiR0K27ffHsCt2ymwd/wE2tqK9/SWljzA0+IoHD92UOmnB5UEbcnSUJSU2cLKSrWmaqGwEKXFR/Hllx/hhx9+6NTvSl7EYjFycnLanPXU19e3Cffw9vaGl5dXj2iVysrKwuPHGUhLywSHk42mJkBXVwPOzi4YONAZgwa5w9nZWa6xng3iDQ4OVjmspDXtZQbs2bMHf/zxB0JCQqChofFccrqmpiYcHR2l9Xmenp7Q09PDsWPHcPHiRWn8nCIUFRVh69atKCkpQWBgILZs2QcLq4+hr9/+7ay8FBfehLXVU+zcuU6lcdSd0tJSnD59Grdu3QKLxcLkyZPh7+//3B/8AweO48bNPLBtP1BpvubmehQVHMCe3aFKVTEoLWgHDhzHH3dK0N+anh0UvyIRvPxTGD16iNKN5RKJRHpYnZiYKD2slncn8CJC7WL09PRoySTtKNWJKrcoLy/H7t27pX2G9fX1SE1Nle6cc3JypAJnY2MDLpeL119/HZ9++qlSf3iom9Xo6BuwdZgFMzMflT4jRXHhJYwdY4PPPptJy3jqTFFREc6fP49bt27BxMQEAQEBeOONN6Crq4tbt+4hYmc0nFzosY+vrytBUeEP+OXicYXfq5SgZWTk4svFa+HpTW8kWHbWMcybOxKTJ0+U+z2yqvHt7OzaCNiL0sumDNQuhsfjqZQa/2xbA+qhogAAIABJREFU0owZM567/aWcOQYMGCDTTZa6Xb5//z5u3bolPX9T5Wjg/PkYHDvxEE7O9IpPSuI3OHp0u9oHsNBFUVERTp06hbt378LU1BQBAQHYsmUXXhr+Ha3zFBZcw0t+2ggKWqjQ+5QStPff/xjmFnOhb6Datr09EhNW4PJ/z8jcQZWXl+Px48fPVeMPGDCgTUX7i+YyoCqt68PkDStpDRUnV19fj+XLl8PPz0/ma1NTUxESEoI33nhD5m0l1UIFAKGhoW2ODvLz8wHgucsbNze3dgWypqYGkyfPhvcg+QuL5UUoKAC/IhLnzh6mfWx1hsvl4ty5c7h8ORZsu9noaz6Y9jnS07ZjZ8QKDBwov2GDwoJ24cIFXLhYgn4WihdoykNVVTqc7DOwdu0KAC0tOWlpaXj8+DGSk5NRWloKoG29k6+vb6+pdO5uqAp+Rc4xqTg5Gxsbua3Oo6KicOLEiXbryYCWJve4uLh2k6WqqqradGh01mj/zTfhyOV6wMTETc7vgmKUl8QiIMAa7733HiPjqyv37t3D/u9vw8IyoPMXK0FDfQU0JL9g//6tcr9H4autP/6Ih5aWr6Jvkxt9fSv8cecw9uzRbSNgHVWkE+hjzJgxcHZ2xtatWxEcHNxhO5EyjeUUAQEBSEtLw8GDB+Hg4NDGmSMqKgp37txBSEhIu49yJiYmGDVqlDSa7tlG+/j4eAD/a7S/ffs+PLzHKfqtkB8tU9y5k/DCCVpCQhqampg7yumj1xdJCamora2V+2lB4R2av/902DkuQZ8+fZVapDzE/fUVHBzMMGTIEHh7e8Pb27vb+zZfNDrLviwqKsLGjRuVaiynaCnGDmrjzEE9jr733ntKO2iUlJRIBe6ff/5BTk4l/IaFKzWWPNTXl4KXdwCXL9OX1dAT+PSzIDSJXoGpGXMdFOlpu7Bt6+fw9ZVvE6VQv051dTXq6usYFTMAYBk6YcmSJQgMDMT48eOJmHUDVD7m/Pnz8ejRIwQGBqKoqAhAy80odb61fft2pcQMaNlBUU3mERERKC0tRXh4ODw8PDB7tnJ1jUDLccS4ceOwbNkyfPHFF2AZKm42qQh6ehYQCmuk/a0vCgW8HLBYzFp96+mx8fffT+R+vUKPnNnZ2TA2kd8VQVlYLDays7NVsnIm0IO/vz/c3NwQHh6Or776Ch4eHtIODlWbwIGWy5wvv/wSERERWLVqFXR0dBAUFESb63B2djbjv3QAwGINwLVr114YC6Oqqio0NDRDR5fZZnYDFhscTrbcr1dI0AoLC6Gjw3xcFsvQHkVF5YzPQ5APV1dXhISEYM2aNYiPj4eXlxcCAwNp6y4YNWoUzp8/j/z8fMyfP5/WG+qcnFIYGDL/R1hP3x0HDhxQuvexp9HQ0AA9febFm8Vio7ExV+7XK/QTyWaz0djwKwD568SUobYmB7a27TetE7oeqv9TX18fo0aNwu+//47g4GAEBQXREt4cGxuL/Px8WFtb4+TJkxg8eDBtdV0uLlaI/4eDvn2Zu8gCAKEwFYsWLZK7U6OnU1tbi9XBW7pgnnxY95e/CF4hQXNxcUFNNVfhRSmKUMiDs3PvbP7tSbR26GhdmzZy5Ejs2LEDy5cv77TmrDM4HA4OHjyIMWPGYM6cOVi6dCm2bNmCiIgIWvppnZycIBDcU3mczqitLcCbb77ZK504ZGHI0kNjA5/RcGyhkAd3d/kvHRS6FGCxWDA0MkZ9fanCC1OE2tocREREICIiAr///jsKCwsZnY/wPJWVlQgNDUV0dDRmzZqFkJAQ6dU55XNmbW2NjRs34sSJE9JqfkUQCoXYsmUL2Gw2Fi5cKLXSLi4uxnffKV95XlJSghs3bmDXrl3Yt28fBLU5So8lD3V1T9HXrN8LJWYAYGfnBIGAx+gc9XU8DBrkLvfrFT4EcXVxQUk5F3p6zIQsNDbwYcjSxbBhw5CcnIw7d+4AIHVoXUlmZiY2b94MANiwYUO7/Z2mpqbYvHkzjh49iqioKDx58qRN32ZnSCQSRERESEWN2o15enpizpw5+Omnn+Dq6op33nmn07E6C3wpKOCjsbFKbpsgRREKuHBxeTEeNVvj4+OGG7FcmPWlpze2PRobCxR6jFdY0MaMeQmRpziKvk1uBEIe3nhjLJYsWQzg+U6B27dvAyCdAkxBVf27u7t3KlDa2tqYP3++1Elj+fLlCA4Oluum7/jx44iPj8eaNWueO4d75513kJmZiZ9//hnOzs7POWzI6hSgjDjHjx8Pb29vuLq6QlNTE7q6u5CSxmNM0ESiMowe/eJF6Pn5eeHWrf8yNn6dsAheXoMV2vkq1cs5+6NF0NV7G0ZG9N54SiRiPI5fhlu3fpP5GtLLyQytC2llNZZ3BNXgXlhY2GlYCRWgMm3aNHz44Yftvobq5aytrcWmTZvaZJrK6uWUZcRJd05Da2qqswDx7zh8eDftY6srYrEYd+7cwenTp5GRUQgrm8mwsKTfKDQjbSN++GGrXEljFEoJWkVFBT6Y+il8Bm1W9K0dkpl+AMuWvo833pA/mo64bagOFSdXU1Oj0iG/PAEo8kTcPeu20dzcDA0NDZXcNq5evY3v9l2Ci9tnSn02WST+8zWio4++EH9AxWIxHj58iFOnToHL5cLPzw8zZ87E/PnL4emzDtra9JWscPMuYsxoG3z5pWIF1kr7oR07dgG//DcZtnbTlHn7c7S4VV7C/702WCU/tPbSyXurHxod6URUM7q9vT1tZRiyIupkhRB35ofG4/EwdOhQrFy5UiU/tEuX/kB/60noZ/Gyyp8RAPJzT2HK5CGYNetdWsZTVyQSCR48eCAVMm9vb8yePRtubi3N/n/9lYBNmw/B0XkJLfPV1uZBUHMBp05+r/B7VXKs3bhxLx4nNoBt1/nBbUfw+cmQNN/E3DlTcPDgQeJY2w4VFRXIzs5GXFw60tIykZ/PgZGxOWprKuDo5Aw3V2f4+bnDxcVFrvPE1rspJmy42wsRjoiIwMOHD/HNN9+goaFBbsfa06dP48yZMzKdOTqCehSuqKjA8uXLsXPXYWhpvwFTMw/VPl/eRQwfZoRVq5hLulcH/v77b5w6dQocDgdubm746KOP2r0kOn06BqfP3IWD01yV5qure4qKslM4/OM2pZKnVM4U2LQpAvcf5MLJ+VNoaileN5TLOQNLiyrs378N2traJFOgHSIjL+DXK/cgqBVDS6clnYhlwIaeviXq6p5C+G8ykUhUCENDTQRMGY0pUybJHK+1LTVTQSlA23O5AQMGgMfjgc1m4+nTpwpnCmzatAlJSUnSLE55oNx4bW1tpbtPkUiEhQtXoqyiLxwcpyr8mZqbG5Cd+QNGjXTB6tXLFH5/TyElJQXHjh1DRkYG3N3dMWPGjE4bxH/++TROnf4V9o6fKGVxXljwO0SNj/DTT3uUtoOnJfXp5s0H2LAxDAPY0+TezgsEXORmf4/Zs2fio48mt/kaSX1qoaamBou+XIu6un4YoIBXOzfvDAwN+dj33cbnbFfi4+Oxffv2NsEhdNM69YkKJqZ+zPr3748hQ4YonPokFAqxdOlSAGjzuNoeIpEIR44cwa+//ipz93n06HmcPHUWDo4LYMCS79C5tOQBigrPY/Om9Xjlld55q5mSkoLTp08jOTkZTk5OmD59Ol56Sf4YxYyMXKxYuQ56ekNhw5avOL6pqRY52d9j5H/8EBzcvuGnvNAaNBwcvAkpqRyIxaboo8cG698sPk2tPhDU5ktzDjVQBGtrc2zZsgbm5ubtjvWi53LevfsQ69Zvhb3DPBgrYUxYVfkEeTmHsWlTKEaMeKlN1T8dYcOt6SyXs7KyEiYmJhCJRKirq1N6V8jhcLB69Wr4+PjIvFBoncu5bNmyDucpKytDcPAWFBWXQQIbsFhsGBiwwTK0R3NznXTnW1fPhbZWNby9nBEWtlrhdfcEMjIycPz4cSQnJ8PW1hbTp0/HK6+8orRJwP79P+L2H48hEGiiT58B0mzOPn3MIKjlSjN6m5sL0d+ShZUrP4eHh2rHAAADyelFRUXIycnBw4dpyM3NQU5ONrS0dWDRzwLOzi4YNMgNnp6ucqVaAy9mcvrduw+xc9cZ2NovUHksbu73WLjwXdy+fR3p6en44osvlLb7oZAnOZ16hNy9ezcKCgqwe/duaGlpSTMH/P39MW/ePIW/b7Gxsdi7d2+7JR/KJKcDQF5eHlJTM5GYmIHs7GyUl5ejqakBTk4ucHBwxPDhHrCzs+uVuQEcDgeRkZGIj4+HlZUVPvzwQ4waNYqWn+eSkhLk5eUhPj4dHE42MjOzoaurjz56feDq4gxfXzd4eLjQ6lBCu6C1h0QiUckOhs/n49tvv0VKSgrtuwtFqKmpkZ6/JScng8drafswNDSEl5eX9DHK1tZW6c9bU1ODd9+bDd/B9PnfP3q4BAPd2fj666+V+uGRSCTgcrltHiEp76+OOjgOHDiAGzduYMOGDdLi2I5SoeTlwIEDuHbtGtasWYOhQ4e22X3SYWtEXVD0ZrhcLiIjI/Hw4UOpkI0cOZLxJw+mv7ddImh0IBaLceTIEVy+fBl2dnZYtWpVtxs/8vl8pKSkSM/gqIp1Y2PjNr/kivxl/2jOMmjrjFPqMVMWVZVP0Cy6iWM/75L7PTweT1rbl5ycLK3vMzU1lT56+/r6wsqq/cNfaic1b968dtuX2svtlJfm5mZpz2dISAgiIyORnp7eaUEvoW1qk7m5OaZOnYqxY8cyLmRdRY8RNIq7d+9i3759AIAvvvhC6iuvDsjqYqBEgPonSwQiIy/g4i+pCl0AyAs37wxmzRyCyZPbL7EpKSlBQkKCVMQqKysBPL/7lOcxjjrrGj58uNTZtj1aJ6srGp9XVlaGZcuWoa6uDmZmZli1atULY66oDEVFRYiKisLNmzdhYmKC999/H+PHj++Wyy4m6XGCBrR0B5w4cQL3799npIaKLmR1MVCPab6+vhg0aBDMzc1RUVGBxUs2waI/vZXsrSkp/h77962Dqalppw3dlIDZ29sr9IhA3Ub26dNHLgsgWRZFHUE9tkZGRkIikWDEiBEICgqSe40vEqWlpThz5gxu3rwJFouFKVOm4K233lKrsiQ66ZGCRkE1Ujs6OmLlypWwsGDGAYQOZHUxAICVlRXMzc2R8LgKLm5fMraGrIy9GDLYDGVlZZ1GvykDVS+WlpbWbvxcR1AH+lSWgazdFhVmnJCQgBkzZkAikSAyMlLmo+2LCp/Px9mzZ3H9+nXo6+tjypQpmDBhQq+3OOrRggYoFnCrTjzbxfDgQRL0DIbB1k52Qayq5OddRJ3gbwwf7sVICQpV0R8SEoKhQxWv06JKLnJycto9D6P+r0UiUZtzt7CwMCQkJLS5fHhRqa6uRlRUFK5evQodHR28++67eOedd3q9kFH0eEEDWm4Gd+3ahfj4eKWcItSBxUvWoqram5EEaorysjhYmKcjIuIb2seOi4vDpk2bVIqfA1qKYg8cOCBtcF+2bBl0dXURExODo0ePtmtrRMXh1dbWYvfu3S9Eo/izVFdX49KlS4iJiQHQEm4zefLkFybjgKJXCBrwfDnAqlWrepTDxnvvzYT1gEXoo9d+oTEd1NeV4GnRD4iOPk7ruGVlZVi6dCkcHBwQFhZGS2IT1eBuaWkJCwsL/PPPPx3WrhUUFCAwMBAuLi7YsGFDr7m16wyBQIDo6GjExMRALBZjwoQJCAgIUKoPsjegtX79+vXdvQg60NDQkJ4F/fbbb7h27Ro8PDxkdiKoEwKBADdiH8LQ+DVG59HWYaFZlIy3Jo6h7RKlsbER69evh1gsxjfffEPbo42joyNsbW1x7do1FBYW4t1338W8efNkiqWxsTGsrKxw6dIlCIXCHnP0oCz19fWIjo7Gjh07pPWZq1atwogRI9TeaIFJ1O9qUEW8vLwQERGBLVu2IDg4uEfUJrFYLFRVlkKfVcqYtTnQ4mQgqK2k9Tzl+++/R15eHsLDw2l91KN2aNbW1jA3N8cvv/wCkUjU4Y32qFGjkJOTg+joaLi5ualVSQ9dNDY24tdff8WFCxdQV1eH119/HVOmTFHrC7GupNcJGgCYmZlJ/e4PHTqE5ORkxhrc6cLO3gmVVTxGBU0o4MLRkT6X4atXr+LmzZtYsGCB3A4YndHa1qh1Vwh1hpaRkdGhb9vs2bORnp6O7777DgMGDKBtXd1NY2Mjrl+/jvPnz6OqqgpjxozBtGnTiJA9Q685Q5PFn3/+ib1790qLL5lucFeW778/gWs3inrMLWdqaipCQ0Mxbtw4fP65ag4JFJStUXFxsdRDrTXy3mhXVVVhxYoVADp35lB3RCIRfv/9d5w/fx6VlZUYOXIkpk+fzohLSm+g1wsa0FLgum3bNhQXF3d5g7u8PHr0CGGbIuHoTI84tEdm+h74Demrch1aVVUVli5dCnNzc4SHh9NyAE95l5mZmXXYWE7VoXV2o83hcBAUFITBgwfLdOZQZ5qbmxEbG4uzZ8+irKwMw4cPx8yZM2Fra9vdS1NrXghBA2Q/yqgLlZWV+GLRN7C0WsjYHOUlB7F3b6hCnQIODg5txKC5uRmhoaEoKCjAjh07VLbsbu1dJm9j+bM32l9//XW73QVXr17FwYMHOwxjUTdaB5AUFxdj+PDhmDp1aq95dGaaF0bQKGJjY3Hw4EFYWVmpRYN7a06fvohzUUmwtVPcSbUzuHmnMHvWMLz3nn+7X5fVy9m60Z66QY6JiUFYWJjKRayVlZXYvHmzzELazqAa3LW1tWV2F+zZswe3bt2SOnOoK7ICSIiQKcYLJ2gApDbffD4fixcvxquvvtrdS5IyZ+5yaGqNhonpQNrGrKxMhYbkHo78tEPu98hy2wAABwcHTJw4sUO3jc6QR4zkgWpwl+W20djYiNWrV6O4uBi7d++mJQSGTjoLICEoxgspaEBbm291anCvra3FpEkz4DtkO21jJsQH4uqVKKXLNSQSCeLi4rB161YYGRlBJBLJ5YcmayzqcXHw4MFyNaN3Rmd+aFThr5WVVZuU9o7G64pOE3kDSAjy88IKGtD2l8vZ2RmrV69WiwT2+/f/RviOE7B3UP2CIC9nP75eNQfDhytfaEq1FgFAeHg49PT0OnWspZKbWhc2P3ugP3PmTFoP6ztyrKVas0aOHPmcpRGHw0FaWhYeJ2aAk52NiooWx1pHR2fYOzjh5WHusLe3l9sBtzOUCSAhyMcLLWgUqpgNMsWff/6NkJANsHf8RKnHz8rKVORyfsS2rRtVEjOgpfk7KSkJERER7TpodJQpYGVlBR8fH1hYWOC3335DQ0MDoyYCrTMFni39oJrnKWeO4uJirFmzBU9LqqGhaQMWy/bfTAE7NDfXQSDgQigoQEM9D9pa1XB3t8WWLSFKr03VABJC5xBB+xfK5lsZs0GmEAgE+GLRWtQKTBUKdObmnYKxcS0O7A9TuSsgKioKJ06cQGBgoNyV98+mPqWmpkIsFgNoEbjBgwcrnPqkCCKRCEePHkVMTEybG23K3ighIQHDho3Bjdg7cHRaCH0D+Wq6ykofgZd/EqGhazF2rPwhL3QHkBBkQwStFc+aDSqb4E430dH/xbnzsaipEUFHtyVNy4DFhr6+FeqExS07CSEPTY0FMDXRQUDAOJm3mYpAPab5+/vjk08+Ufj9rXM5X3nlFbDZbKSkpEjjAplOtKdq21pH9lVXV2PKlI9gZPIy7B0CFB5TLG4EJ+tHvDLcDiEhX3X4WiYDSAjtQwStHeQ1G+xKKisrweFwEBf3BBkZWeBwONA3MEJ9XS2cnFuS04cOHQhHR0elQ1pb09pBQxn3Cio5nc/nPxdb19DQgCdPnsidnK4KrUOVV65ciW8jDqGP3lsqZzZw8/+Ll/z6YPXqxc9/rZsCSAhE0GRSWlqK7du3K10j1RU0NjYyUhxMlTqUl5cr5S9GNZZbWVnJFWZcX1+P1NRUaaJWTk6OVOBcXV2lt6gDBw5UykmCKqr+5ZfbsB4wGeb96Dm34uadxruTfKVB2b09gKQnQAStA541G1T3Bne62LNnD/744w+FHWDp6saQlYeqra0NV1dX6SOqm5ub3OPHxMTi+4NX4Ow6X+H1dETS42B8tzcMN27c6PUBJD0BImhyQHUXmJubq3WDOx1Q7UKKevR31liuCjU1NW0ELj8/HwCgo6MDd3f3NgLX3m6oqakJ48dPwiA/+WP85F8bB9kZ38HOzrzXB5D0BIigyQnVXVBeXq62De6qQjV0v/rqqx3Gzz2LvI3ldFFVVYXExESpwHXWaL9pUwQyOU4wNfVgZD3FhVcw9QM7TJkyhZHxCfJDBE0B6urqsHfvXty/f18tG9xVgbLcMTY2lquaHmjbWO7n54eVK1d2SxhHZ432N28+hJtHCHR1mckaKC/7G1aW2di+PZSR8QnyQwRNCaj4PBsbG4SEhPR4kz2JRIKQkBDk5ubK3e9IFbBmZ2erTd0eRUlJiVTgEhISkM0px9Bh8vexKkpd3VM8LfwRFy8eY2wOgnwQQVOSnhqf1x7Hjh3DxYsX5XakoMpatLW11aazQhaPHj1C6LrjcPdYxOg8qvbLEuiBVPgpiaurKyIiIuDm5oaNGzfixIkT0mr4nsSdO3cQHR2NqVOndipmYrEYJ06cwMaNG2Fvb4+dO3eqtZgBQHZ2NgwM2IzPY2Zmj8zMTMbnIXQMuVdWASMjI4SEhCAyMhJRUVF48uQJvvrqK7VocJeHgoICfPfddxg6dCimTeu4tYqy6UlJSelR2ad5eaVgGTkyPo+Wtit4PB58fHwYn4sgG/X/iVRzNDQ0MGvWLKxduxZ5eXkIDAxESkpKdy+rU4RCIbZs2QJjY2MEBgZ2eP6VkpKC5cuXIy8vD2vXrsWsWbN6hJgBgK2tOYS1eYzP09SY2W7jPqFr6Rk/lT0APz8/REREwMLCAqGhoYiKioI6H09GRESgtLQUq1evltk/KZFIEBUVhdDQUFhYWGDnzp097qzQxcUFAgGP8XlqqnlwdnZmfB5Cx5BHThqxsLCQxuedOHECqampatPg3pqoqCjExcVh8eLFMi2eW3uXqZMBpjzw+XykpKQgKSkJcXFxENSWMjpffX0pDI2MwWKxGJ2H0Dk94ye0B6GtrY358+fD09MTe/fuRWBgoNo0uAMt8XORkZEYP368zOJg6ga3trYWQUFBbRrL1ZGamhppH2hycjJ4vJYdGVVoy8l5iqamGujoMPOHRSDgwtXFhZGxCYpBBI0hXn31VTg4OGDbtm1qk+BO1Y45Ojris88+a/c1N2/exP79+2FjY4MNGzaoZf5jfX29NO+gda+nrq4uPDw8MHr06GcyR7eDk1cEExNmBK1ZVIHXXhvCyNgExSB1aAzTumF7xIgRWLZsWbd0FzQ3NyMoKAjl5eXtxs+pyzrbo6GhAenp6VIBo+yGnu3ldHV1bfexWCAQYNKk6fAZTF9Ow//G5qKKfwZnzxyifWyC4hBB6yJiY2Nx4MAB2NjYdEt83oEDB3Dt2rV24+eoxvLCwkK12EmKRCKpgCUmJkoNIZ+1E/Lw8JBbdKOjr+DI0XtwcplN61qTE9fj+LEItdzJvogQQetCWp9NdWV8XmxsLPbu3YtZs2YhIKCtSyvVWG5oaNhtZ33Nzc3gcDjShvO0tDQ0NjZCU1MTTk5O0kxQVQ0fFy1ajVqhH8z60hNIUsCLxptvOGD+/J4RYvwiQASti6mpqcGuXbsUvj0UiUTIzs5GYmIG0tKywOFko1msCW0tCZycnDFwoAsGDXKDs7NzGwsdDoeD1atXw8fHByEhIW3Ga91YTkecnLyIxWLk5OS0yRyor69n3JJbLBZjSsDHsLSaCwMD1XbIRQXXYcvmY8cO5UNTCPRDBK0beDY+b+XKlR02uP/2WyyOn4hGZWU9tLRsYMCyhQFrAFgs23+TibgQCHgQNxfC1FQfc+e8j9df/z+pg0afPn0QHh4uFYfuaCzncrltHDGoXE87O7s2AsZ0iUtdXR3mfvwlmsXeYNsq92idk30EA931sW3bOppXR1AVImjdCBWfJxKJZDa4L/oyFAUFTXBwmiv3uDnZh2Fnqw9jYxFyc3MRHh4urWLvqsby4uLiNgLG5/MB/C/WzsfHB76+vgrbe9PFtvAfcTP2HhxdFqBPH/la1Sr5ycjJ/hFLlwZiypQ3GF4hQRmIoHUzVHzesz2S//yTjKVLl8PecR7M+ylenV9eFoesjB+wfPlSTJ06uU2ilZeXF1asWEFLmIp0vvJyJCYmSs/BysvLAXQcPNzdZGdnY/367aiu0YSmZsvOl/Xv7re5uQFCAQ8CAQ9CARc6OlWwZbMQHv6N2tz+Ep6HCJoaIBKJ8PPPP+Py5cvw8vLC+PFvIyLiBOydFkFDQ/nuNImkGXk5+7FyxUe4cuUSUlJS8Pbbb2POnDkqV/2Xl5dLq/GTk5OlrrHm5ubSW0gfHx9YWlqqNA/TSCQSJCcn4/HjJ3jyJAvZ2Tmora1Cfb0AbLYjnJycMXiwO1xdHTFwoOKBz4SuhQiaGvHnn39iz549yMt7iuGvfk/buA//XAAHB+vn4uQUgc/nt3mEpATM1NRUegvp4+PTK8oXRCJRj2nzIrSFCJqaMWfuV4DGK7SVFgBARXkCNDX+xtEj8heW8vl8aTBJcnIyCgoKAADGxsZS8fL29gabzbzXGIEgL+TPkBoRE/M7qqv1Ye9In5gBQF/zwcjlPMaVK9cxceLr7b6mqqpK2k7UWsAMDQ3h5eWFiRMnwsfHB7a2tmpjtU0gPAvZoakJtbW1WPTlWpiZL2RsjvKS/Th4cAsMDAxQVVUlDfdNTk6WRsNRwSLUGZi9vX2P8T4jEMgOTU1IT08Hn98MMwYvAcsrGrFjxw6Ul5dLBYxypBg9enSb6DcCoSdCBE1NiIt7Ah0dZh1P9fTs8eBBPF5+2ROvvfbaM44UBEK3itt1AAACOUlEQVTPhwiampCRkQUDFrN9lAYsNpydmrB+/VpG5yEQugvybKEmZGdngcWyZXQOlqEtOJxsRucgELoTImhqQG1tLYxN+kFPn9kiVH19KxiwjFFXV8foPARCd0EETQ0wNDQEv6IYDQ0VjM5TX1+KmuoK6OvrMzoPgdBdEEFTE+zsnCBkOJ1IKODBzr79UBQCoTdABE1N8PBwg0CQz+gcAgEXnh5ujM5BIHQnRNDUhKFD3VFfx+wOTdRUgKFD3Rmdg0DoToigqQmOjo4wNWH2v8PQUFNmDieB0BsggqYm9O/fH+PGDQU37yIj4+fnRmP8G8PVyo+MQKAbImhqxMcfz4CWFge1tbm0jltTw4GeXj7mzJlG67gEgrpBBE3N2PddGHI5h2kdM5dzGHv3bKR1TAJBHSGCpmZYWFggaOXnyMuhJ7g2l/MDVn/9JXnUJLwQEPsgNeX69VvYvv0H2DnOU6olSlCbj9ycHxG8ejHGjBnJwAoJBPWDCJoak5NTgJVB6wB4gG33ttzv4+ZfgpZmFvbu2YD+/fszt0ACQc0ggtYDOHToOO7eS0VlFaDXhw0DVss/HR1DNDXVSNOJGup5MDEB/u81H3zyyczuXjaB0OUQQeshcLlcZGVl4a+/niA1LROlJXmwsnJC8dMc9O/vAI+BLnj55YFwdnaGrS2zrh0EgrpCBK0HU15eTg77CYRWEEEjEAi9BlK2QSAQeg1E0AgEQq+BCBqBQOg1EEEjEAi9BiJoBAKh1/D/XmO/oQK4hCEAAAAASUVORK5CYII=)"
      ]
    },
    {
      "cell_type": "markdown",
      "metadata": {
        "id": "hXX6nfm9kYpL"
      },
      "source": [
        "The ANN can be written as (a combination of...)\n",
        "$$\n",
        "y = ANN(x) = W_3  \\tanh( W_2 \\tanh (W_1 x - b_1) - b_2) - b_3\n",
        "$$\n",
        "First, randomly define the weights and biases."
      ]
    },
    {
      "cell_type": "code",
      "metadata": {
        "id": "gyV7D-pflMBP"
      },
      "source": [
        "params = [\n",
        "          #layer1\n",
        "          np.random.randn(4),     # W1\n",
        "          np.random.randn(4),     # b1\n",
        "          #layer2\n",
        "          np.random.randn(3,4),     # W2\n",
        "          np.random.randn(3),     # b2\n",
        "          #layer3\n",
        "          np.random.randn(3),     # W3\n",
        "          np.random.randn(),     # b3\n",
        "         ]"
      ],
      "execution_count": 35,
      "outputs": []
    },
    {
      "cell_type": "markdown",
      "metadata": {
        "id": "ApMBoUm1lNmw"
      },
      "source": [
        "Then, define the function `ANN`, and compute `ANN`(1.0)."
      ]
    },
    {
      "cell_type": "code",
      "metadata": {
        "id": "Bb6QNFbujIf0",
        "colab": {
          "base_uri": "https://localhost:8080/"
        },
        "outputId": "091a3c6f-ef21-4b2c-a5a4-20e600cdca35"
      },
      "source": [
        "def ANN(x, params):\n",
        "  #x is the inputs and params containing weights and biases\n",
        "  W1, b1, W2, b2, W3, b3 = params\n",
        "  hidden1 = np.tanh(np.dot(W1,x) - b1) # 1st hidden layer\n",
        "  hidden2 = np.tanh(np.dot(W2,hidden1) - b2)\n",
        "  return np.dot(W3, hidden2) -b3\n",
        "\n",
        "ANN(1.0 , params)"
      ],
      "execution_count": 36,
      "outputs": [
        {
          "output_type": "execute_result",
          "data": {
            "text/plain": [
              "0.8800119619870052"
            ]
          },
          "metadata": {},
          "execution_count": 36
        }
      ]
    },
    {
      "cell_type": "markdown",
      "metadata": {
        "id": "FQtcDSd-ldoz"
      },
      "source": [
        "### Gradients computation\n",
        "\n",
        "Now, rewrite the function `ANN` using the JAX's augmented `numpy`.\n",
        "Compute again `ANN`(1.0), and compute the derivative of `ANN` w.r.t. `x` using `jax.grad`. Evaluate the result in `x` = 1.0."
      ]
    },
    {
      "cell_type": "code",
      "source": [
        "def ANN(x, params):\n",
        "  #x is the inputs and params containing weights and biases\n",
        "  W1, b1, W2, b2, W3, b3 = params\n",
        "  hidden1 = jnp.tanh(jnp.dot(W1,x) - b1) # 1st hidden layer\n",
        "  hidden2 = jnp.tanh(jnp.dot(W2,hidden1) - b2)\n",
        "  return jnp.dot(W3, hidden2) -b3\n",
        "\n",
        "print( ANN(1.0 , params) )\n",
        "dANN = jax.grad(ANN)\n",
        "print(dANN(1.0, params))"
      ],
      "metadata": {
        "colab": {
          "base_uri": "https://localhost:8080/"
        },
        "id": "0zvN-0YK4GHe",
        "outputId": "dec5b6d4-41e0-4e64-9643-4954d481f0bf"
      },
      "execution_count": 37,
      "outputs": [
        {
          "output_type": "stream",
          "name": "stdout",
          "text": [
            "0.8800121\n",
            "-0.5830726\n"
          ]
        }
      ]
    },
    {
      "cell_type": "markdown",
      "metadata": {
        "id": "fYTYNI3-mHou"
      },
      "source": [
        "Plot the graph of the function `ANN` and of its first derivative in the interval $x \\in [-10, 10]$."
      ]
    },
    {
      "cell_type": "code",
      "source": [
        "import matplotlib.pyplot as plt\n",
        "xx = np.linspace(-10, 10, num=100)\n",
        "plt.plot(xx,[ANN(x,params) for x in xx], label= 'ANN(x)')\n",
        "plt.plot(xx,[dANN(x,params) for x in xx], label= 'dANN(x)')\n",
        "plt.legend()"
      ],
      "metadata": {
        "colab": {
          "base_uri": "https://localhost:8080/",
          "height": 284
        },
        "id": "RP0ERjBF4ydm",
        "outputId": "7dde1d8d-7a7a-48b2-c851-efca3b8d7d03"
      },
      "execution_count": 38,
      "outputs": [
        {
          "output_type": "execute_result",
          "data": {
            "text/plain": [
              "<matplotlib.legend.Legend at 0x7fbc1a5e0410>"
            ]
          },
          "metadata": {},
          "execution_count": 38
        },
        {
          "output_type": "display_data",
          "data": {
            "image/png": "[encoded data removed]",
            "text/plain": [
              "<Figure size 432x288 with 1 Axes>"
            ]
          },
          "metadata": {
            "needs_background": "light"
          }
        }
      ]
    },
    {
      "cell_type": "markdown",
      "metadata": {
        "id": "AQF1F6V9mP6H"
      },
      "source": [
        "Compute the gradient of `ANN` w.r.t. the neural network parameters."
      ]
    },
    {
      "cell_type": "code",
      "source": [
        "dANN_params = jax.grad(ANN, argnums = 1)  #derivative wrt the params\n",
        "res = dANN_params(1.0, params) #same shape of the list of objects params\n",
        "res[2] "
      ],
      "metadata": {
        "colab": {
          "base_uri": "https://localhost:8080/"
        },
        "id": "4bVN0v7o5oFf",
        "outputId": "05a98db5-da9c-43fd-a1ce-e925bbbbf53a"
      },
      "execution_count": 40,
      "outputs": [
        {
          "output_type": "execute_result",
          "data": {
            "text/plain": [
              "DeviceArray([[-9.0786787e-03,  2.4348617e-02,  2.1147481e-01,\n",
              "              -2.3341700e-01],\n",
              "             [ 3.4136962e-02, -9.1553837e-02, -7.9517162e-01,\n",
              "               8.7767702e-01],\n",
              "             [-8.7074738e-04,  2.3353063e-03,  2.0282812e-02,\n",
              "              -2.2387316e-02]], dtype=float32)"
            ]
          },
          "metadata": {},
          "execution_count": 40
        }
      ]
    },
    {
      "cell_type": "markdown",
      "metadata": {
        "id": "ohfmZrWpdw3d"
      },
      "source": [
        "Evaluate the execution times of the function `ANN` and of the functions computing gradients by the magic command `%timeit`"
      ]
    },
    {
      "cell_type": "code",
      "source": [
        "%timeit ANN(1.0, params)\n",
        "%timeit dANN(1.0, params)\n",
        "%timeit dANN_params(1.0, params)"
      ],
      "metadata": {
        "colab": {
          "base_uri": "https://localhost:8080/"
        },
        "id": "VRZa9feG6Kza",
        "outputId": "c1abc50a-6ec4-4de1-ea0c-7b906048721c"
      },
      "execution_count": 41,
      "outputs": [
        {
          "output_type": "stream",
          "name": "stdout",
          "text": [
            "The slowest run took 8.85 times longer than the fastest. This could mean that an intermediate result is being cached.\n",
            "10000 loops, best of 5: 45.7 µs per loop\n",
            "100 loops, best of 5: 6.24 ms per loop\n",
            "100 loops, best of 5: 7.25 ms per loop\n"
          ]
        }
      ]
    },
    {
      "cell_type": "markdown",
      "metadata": {
        "id": "v9ziWf_lcjLn"
      },
      "source": [
        "### Speed it up with JIT!\n",
        "\n",
        "Compile the function `ANN` and the functions that compute its gradients using the [just-in-time compilation](https://en.wikipedia.org/wiki/Just-in-time_compilation) utility `jax.jit`. \n",
        "\n",
        "With `f_jit = jax.jit(f)` a callable `f` is compiled into `f_jit`.\n",
        "\n",
        "Then, check that the compiled `ANN` function returns the same results as the original one. Finally, evaluate the execution times and compare it with the previous results."
      ]
    },
    {
      "cell_type": "code",
      "source": [
        "ANN_jit = jax.jit(ANN)\n",
        "dANN_jit = jax.jit(dANN)\n",
        "dANN_params_jit = jax.jit(dANN_params)"
      ],
      "metadata": {
        "id": "pKu2cO5p7VwR"
      },
      "execution_count": 42,
      "outputs": []
    },
    {
      "cell_type": "code",
      "source": [
        "#using jit the performance increase a lot \n",
        "#for dANN we have performance of the order of microseconds againts milliseconds achieved with only jax\n",
        "%timeit ANN_jit(1.0, params)\n",
        "%timeit dANN_jit(1.0, params)\n",
        "%timeit dANN_params_jit(1.0, params)"
      ],
      "metadata": {
        "colab": {
          "base_uri": "https://localhost:8080/"
        },
        "id": "AxkCoQGx7jjT",
        "outputId": "20b307af-a4f5-49da-9133-284bb5c01d10"
      },
      "execution_count": 44,
      "outputs": [
        {
          "output_type": "stream",
          "name": "stdout",
          "text": [
            "The slowest run took 81.07 times longer than the fastest. This could mean that an intermediate result is being cached.\n",
            "100000 loops, best of 5: 13.3 µs per loop\n",
            "The slowest run took 51.57 times longer than the fastest. This could mean that an intermediate result is being cached.\n",
            "100000 loops, best of 5: 13.4 µs per loop\n",
            "The slowest run took 7.10 times longer than the fastest. This could mean that an intermediate result is being cached.\n",
            "100000 loops, best of 5: 16.9 µs per loop\n"
          ]
        }
      ]
    }
  ]
}