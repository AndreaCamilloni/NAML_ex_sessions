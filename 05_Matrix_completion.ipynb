{
  "nbformat": 4,
  "nbformat_minor": 0,
  "metadata": {
    "colab": {
      "name": "05_Matrix_completion.ipynb",
      "provenance": [],
      "collapsed_sections": []
    },
    "kernelspec": {
      "name": "python3",
      "display_name": "Python 3"
    },
    "language_info": {
      "name": "python"
    }
  },
  "cells": [
    {
      "cell_type": "markdown",
      "metadata": {
        "id": "38-hDL_qyNgD"
      },
      "source": [
        "# Matrix completion and recommender systems"
      ]
    },
    {
      "cell_type": "markdown",
      "metadata": {
        "id": "vAQg0dnYQv7w"
      },
      "source": [
        "[MovieLens](movielens.umn.edu) data sets were collected by the [GroupLens Research Project](http://www.grouplens.org/) at the University of Minnesota.\n",
        " \n",
        "This data set consists of:\n",
        "- 100000 ratings (1-5) from 943 users on 1682 movies. \n",
        "- Each user has rated at least 20 movies.\n",
        "\n",
        "The `movielens.csv` file contains the full dataset. Users and items are numbered consecutively from 1. The data is randomly              ordered. This is a tab separated list of \n",
        "\n",
        "```\n",
        "user id | item id | rating | timestamp\n",
        "```"
      ]
    },
    {
      "cell_type": "code",
      "metadata": {
        "id": "CErbjjHvR85c"
      },
      "source": [
        "import pandas as pd\n",
        "import numpy as np\n",
        "import matplotlib.pyplot as plt\n",
        "from scipy.sparse import csr_matrix\n",
        "from scipy.stats import pearsonr"
      ],
      "execution_count": null,
      "outputs": []
    },
    {
      "cell_type": "markdown",
      "metadata": {
        "id": "9hSllBeQSGNd"
      },
      "source": [
        "Read the dataset from the `movielens.csv` file."
      ]
    },
    {
      "cell_type": "code",
      "metadata": {
        "id": "BGUGfjrcSNFE",
        "colab": {
          "base_uri": "https://localhost:8080/",
          "height": 300
        },
        "outputId": "3e5e41e7-95c7-48cc-cb18-200bbacd5e9a"
      },
      "source": [
        "dataset = pd.read_csv('movielens.csv', sep = '\\t', header = None)\n",
        "dataset.describe() #4 columns=> we consider only the first 3\n",
        "#columns and rows start from 1"
      ],
      "execution_count": null,
      "outputs": [
        {
          "output_type": "execute_result",
          "data": {
            "text/html": [
              "\n",
              "  <div id=\"df-b73c8a50-66ec-4c19-9840-ee770249813b\">\n",
              "    <div class=\"colab-df-container\">\n",
              "      <div>\n",
              "<style scoped>\n",
              "    .dataframe tbody tr th:only-of-type {\n",
              "        vertical-align: middle;\n",
              "    }\n",
              "\n",
              "    .dataframe tbody tr th {\n",
              "        vertical-align: top;\n",
              "    }\n",
              "\n",
              "    .dataframe thead th {\n",
              "        text-align: right;\n",
              "    }\n",
              "</style>\n",
              "<table border=\"1\" class=\"dataframe\">\n",
              "  <thead>\n",
              "    <tr style=\"text-align: right;\">\n",
              "      <th></th>\n",
              "      <th>0</th>\n",
              "      <th>1</th>\n",
              "      <th>2</th>\n",
              "      <th>3</th>\n",
              "    </tr>\n",
              "  </thead>\n",
              "  <tbody>\n",
              "    <tr>\n",
              "      <th>count</th>\n",
              "      <td>100000.00000</td>\n",
              "      <td>100000.000000</td>\n",
              "      <td>100000.000000</td>\n",
              "      <td>1.000000e+05</td>\n",
              "    </tr>\n",
              "    <tr>\n",
              "      <th>mean</th>\n",
              "      <td>462.48475</td>\n",
              "      <td>425.530130</td>\n",
              "      <td>3.529860</td>\n",
              "      <td>8.835289e+08</td>\n",
              "    </tr>\n",
              "    <tr>\n",
              "      <th>std</th>\n",
              "      <td>266.61442</td>\n",
              "      <td>330.798356</td>\n",
              "      <td>1.125674</td>\n",
              "      <td>5.343856e+06</td>\n",
              "    </tr>\n",
              "    <tr>\n",
              "      <th>min</th>\n",
              "      <td>1.00000</td>\n",
              "      <td>1.000000</td>\n",
              "      <td>1.000000</td>\n",
              "      <td>8.747247e+08</td>\n",
              "    </tr>\n",
              "    <tr>\n",
              "      <th>25%</th>\n",
              "      <td>254.00000</td>\n",
              "      <td>175.000000</td>\n",
              "      <td>3.000000</td>\n",
              "      <td>8.794487e+08</td>\n",
              "    </tr>\n",
              "    <tr>\n",
              "      <th>50%</th>\n",
              "      <td>447.00000</td>\n",
              "      <td>322.000000</td>\n",
              "      <td>4.000000</td>\n",
              "      <td>8.828269e+08</td>\n",
              "    </tr>\n",
              "    <tr>\n",
              "      <th>75%</th>\n",
              "      <td>682.00000</td>\n",
              "      <td>631.000000</td>\n",
              "      <td>4.000000</td>\n",
              "      <td>8.882600e+08</td>\n",
              "    </tr>\n",
              "    <tr>\n",
              "      <th>max</th>\n",
              "      <td>943.00000</td>\n",
              "      <td>1682.000000</td>\n",
              "      <td>5.000000</td>\n",
              "      <td>8.932866e+08</td>\n",
              "    </tr>\n",
              "  </tbody>\n",
              "</table>\n",
              "</div>\n",
              "      <button class=\"colab-df-convert\" onclick=\"convertToInteractive('df-b73c8a50-66ec-4c19-9840-ee770249813b')\"\n",
              "              title=\"Convert this dataframe to an interactive table.\"\n",
              "              style=\"display:none;\">\n",
              "        \n",
              "  <svg xmlns=\"http://www.w3.org/2000/svg\" height=\"24px\"viewBox=\"0 0 24 24\"\n",
              "       width=\"24px\">\n",
              "    <path d=\"M0 0h24v24H0V0z\" fill=\"none\"/>\n",
              "    <path d=\"M18.56 5.44l.94 2.06.94-2.06 2.06-.94-2.06-.94-.94-2.06-.94 2.06-2.06.94zm-11 1L8.5 8.5l.94-2.06 2.06-.94-2.06-.94L8.5 2.5l-.94 2.06-2.06.94zm10 10l.94 2.06.94-2.06 2.06-.94-2.06-.94-.94-2.06-.94 2.06-2.06.94z\"/><path d=\"M17.41 7.96l-1.37-1.37c-.4-.4-.92-.59-1.43-.59-.52 0-1.04.2-1.43.59L10.3 9.45l-7.72 7.72c-.78.78-.78 2.05 0 2.83L4 21.41c.39.39.9.59 1.41.59.51 0 1.02-.2 1.41-.59l7.78-7.78 2.81-2.81c.8-.78.8-2.07 0-2.86zM5.41 20L4 18.59l7.72-7.72 1.47 1.35L5.41 20z\"/>\n",
              "  </svg>\n",
              "      </button>\n",
              "      \n",
              "  <style>\n",
              "    .colab-df-container {\n",
              "      display:flex;\n",
              "      flex-wrap:wrap;\n",
              "      gap: 12px;\n",
              "    }\n",
              "\n",
              "    .colab-df-convert {\n",
              "      background-color: #E8F0FE;\n",
              "      border: none;\n",
              "      border-radius: 50%;\n",
              "      cursor: pointer;\n",
              "      display: none;\n",
              "      fill: #1967D2;\n",
              "      height: 32px;\n",
              "      padding: 0 0 0 0;\n",
              "      width: 32px;\n",
              "    }\n",
              "\n",
              "    .colab-df-convert:hover {\n",
              "      background-color: #E2EBFA;\n",
              "      box-shadow: 0px 1px 2px rgba(60, 64, 67, 0.3), 0px 1px 3px 1px rgba(60, 64, 67, 0.15);\n",
              "      fill: #174EA6;\n",
              "    }\n",
              "\n",
              "    [theme=dark] .colab-df-convert {\n",
              "      background-color: #3B4455;\n",
              "      fill: #D2E3FC;\n",
              "    }\n",
              "\n",
              "    [theme=dark] .colab-df-convert:hover {\n",
              "      background-color: #434B5C;\n",
              "      box-shadow: 0px 1px 3px 1px rgba(0, 0, 0, 0.15);\n",
              "      filter: drop-shadow(0px 1px 2px rgba(0, 0, 0, 0.3));\n",
              "      fill: #FFFFFF;\n",
              "    }\n",
              "  </style>\n",
              "\n",
              "      <script>\n",
              "        const buttonEl =\n",
              "          document.querySelector('#df-b73c8a50-66ec-4c19-9840-ee770249813b button.colab-df-convert');\n",
              "        buttonEl.style.display =\n",
              "          google.colab.kernel.accessAllowed ? 'block' : 'none';\n",
              "\n",
              "        async function convertToInteractive(key) {\n",
              "          const element = document.querySelector('#df-b73c8a50-66ec-4c19-9840-ee770249813b');\n",
              "          const dataTable =\n",
              "            await google.colab.kernel.invokeFunction('convertToInteractive',\n",
              "                                                     [key], {});\n",
              "          if (!dataTable) return;\n",
              "\n",
              "          const docLinkHtml = 'Like what you see? Visit the ' +\n",
              "            '<a target=\"_blank\" href=https://colab.research.google.com/notebooks/data_table.ipynb>data table notebook</a>'\n",
              "            + ' to learn more about interactive tables.';\n",
              "          element.innerHTML = '';\n",
              "          dataTable['output_type'] = 'display_data';\n",
              "          await google.colab.output.renderOutput(dataTable, element);\n",
              "          const docLink = document.createElement('div');\n",
              "          docLink.innerHTML = docLinkHtml;\n",
              "          element.appendChild(docLink);\n",
              "        }\n",
              "      </script>\n",
              "    </div>\n",
              "  </div>\n",
              "  "
            ],
            "text/plain": [
              "                  0              1              2             3\n",
              "count  100000.00000  100000.000000  100000.000000  1.000000e+05\n",
              "mean      462.48475     425.530130       3.529860  8.835289e+08\n",
              "std       266.61442     330.798356       1.125674  5.343856e+06\n",
              "min         1.00000       1.000000       1.000000  8.747247e+08\n",
              "25%       254.00000     175.000000       3.000000  8.794487e+08\n",
              "50%       447.00000     322.000000       4.000000  8.828269e+08\n",
              "75%       682.00000     631.000000       4.000000  8.882600e+08\n",
              "max       943.00000    1682.000000       5.000000  8.932866e+08"
            ]
          },
          "metadata": {},
          "execution_count": 6
        }
      ]
    },
    {
      "cell_type": "markdown",
      "source": [
        "As we can see in table above, the min value is 1. Since each column of dataset contains indexes(the ones for the users, the movies e ratings), we want them to start from 0 as always... so when we convert the columns in numpy arrays we subtract 1"
      ],
      "metadata": {
        "id": "frLrT0IYeoBN"
      }
    },
    {
      "cell_type": "markdown",
      "metadata": {
        "id": "KL3LYjZjSUkE"
      },
      "source": [
        "How many movies? How many people? How many ratings?"
      ]
    },
    {
      "cell_type": "code",
      "metadata": {
        "colab": {
          "base_uri": "https://localhost:8080/"
        },
        "id": "79j545Ds3MBX",
        "outputId": "7c642765-73e9-4301-9ee8-de092677d5e0"
      },
      "source": [
        "rows = np.array(dataset[0]) - 1\n",
        "cols = np.array(dataset[1]) - 1\n",
        "vals = np.array(dataset[2]) \n",
        "\n",
        "n = rows.max() + 1 # because the max value is the index not the dimension => we have to sum up one\n",
        "p = cols.max() + 1\n",
        "N = len(vals)\n",
        "\n",
        "print('%d users' % n)\n",
        "print('%d movies' % p)\n",
        "print('%d ratings' % N)"
      ],
      "execution_count": null,
      "outputs": [
        {
          "output_type": "stream",
          "name": "stdout",
          "text": [
            "943 users\n",
            "1682 movies\n",
            "100000 ratings\n"
          ]
        }
      ]
    },
    {
      "cell_type": "markdown",
      "metadata": {
        "id": "w4BfJL9wScZU"
      },
      "source": [
        "Shuffle the data (see the function [`np.random.shuffle`](https://numpy.org/doc/stable/reference/random/generated/numpy.random.shuffle.html))."
      ]
    },
    {
      "cell_type": "code",
      "metadata": {
        "id": "9uq6D5XL32Ig"
      },
      "source": [
        "indexes = np.arange(N)\n",
        "np.random.seed(1) # for reproducibility\n",
        "#seed allows to have the same random shuffle every time\n",
        "np.random.shuffle(indexes)\n",
        "indexes\n",
        "rows = rows[indexes]\n",
        "cols = cols[indexes]\n",
        "vals = vals[indexes]"
      ],
      "execution_count": null,
      "outputs": []
    },
    {
      "cell_type": "markdown",
      "metadata": {
        "id": "Orx1_BciSkTl"
      },
      "source": [
        "Split the dataset into a subset of 80000 training ratings and 20000 testing ratings."
      ]
    },
    {
      "cell_type": "code",
      "metadata": {
        "id": "4c-f6X-h8amv"
      },
      "source": [
        "#training split\n",
        "num_training = 80000\n",
        "rows_train = rows[:num_training]\n",
        "cols_train = cols[:num_training]\n",
        "vals_train = vals[:num_training]\n",
        "\n",
        "#test split\n",
        "rows_test  = rows[num_training:]\n",
        "cols_test  = cols[num_training:]\n",
        "vals_test  = vals[num_training:]"
      ],
      "execution_count": null,
      "outputs": []
    },
    {
      "cell_type": "markdown",
      "metadata": {
        "id": "fu5h_yrnSwAZ"
      },
      "source": [
        "Let us denote by $\\Omega$ the set of pairs $(i,j)$ such that rating of the $j$-th user on the $j$-th movie is available in the training set (similarly, $\\Omega_{\\text{test}}$ is the set of testing pairs).\n",
        "Let us denote by $r_{ij}$ the corresponding rating.\n",
        "\n",
        "Create a full matrix $X \\in \\mathbb{R}^{n \\times p}$, such that:\n",
        "$$\n",
        "X_{i,j} = \n",
        "\\begin{cases}\n",
        "r_{ij} & \\text{if } (i,j) \\in \\Omega\\\\\n",
        "0& \\text{otherwise}\n",
        "\\end{cases}\n",
        "$$"
      ]
    },
    {
      "cell_type": "code",
      "metadata": {
        "id": "3jEAjWnj8vKu"
      },
      "source": [
        "#To build a matrix with rows,cols indexes and ratings in position (i,j)\n",
        "X = csr_matrix((vals_train, (rows_train, cols_train)), shape=(n, p))\n",
        "#convert in a ful matrix\n",
        "X = X.toarray()\n",
        "\n",
        "X2 = np.zeros((n,p))\n",
        "X2[rows_train, cols_train] = vals_train"
      ],
      "execution_count": null,
      "outputs": []
    },
    {
      "cell_type": "markdown",
      "metadata": {
        "id": "sGg4nEkKTSWK"
      },
      "source": [
        "## Trivial recommender system\n",
        "\n",
        "Create a trivial recommender system, based on the average rating of each user:\n",
        "$$\n",
        "r^{\\text{pred}}_{ij} = \\frac{1}{N_i} \\sum_{j : (i,j) \\in \\Omega} r_{ij}\n",
        "$$\n",
        "where $N_i = card(j : (i,j) \\in \\Omega)$.\n",
        "\n",
        "Then compute the RMSE (root mean square error):\n",
        "$$\n",
        "\\text{RMSE} = \\sqrt{\\frac{1}{card(\\Omega_{\\text{test}})} \\sum_{(i,j) \\in \\Omega_{\\text{test}}} (r_{ij} - r^{\\text{pred}}_{ij})^2}\n",
        "$$\n",
        "and the Pearson correlation coefficient $\\rho$ (use the function [scipy.stats.pearsonr](https://docs.scipy.org/doc/scipy/reference/generated/scipy.stats.pearsonr.html)):\n",
        "$$\n",
        "\\rho = \n",
        "\\frac\n",
        "{\n",
        "    \\displaystyle\\sum_{(i,j) \\in \\Omega_{\\text{test}}} \n",
        "       (r_{ij} - \\overline{r})\n",
        "       (r^{\\text{pred}}_{ij} - \\overline{r}^{\\text{pred}})\n",
        "}\n",
        "{\\sqrt{\n",
        "    \\displaystyle\\sum_{(i,j) \\in \\Omega_{\\text{test}}} \n",
        "       (r_{ij} - \\overline{r})^2\n",
        "       }\n",
        "\\sqrt{\n",
        "    \\displaystyle\\sum_{(i,j) \\in \\Omega_{\\text{test}}} \n",
        "       (r^{\\text{pred}}_{ij} - \\overline{r}^{\\text{pred}})^2\n",
        "       }}\n",
        "$$\n",
        "where\n",
        "$$\n",
        "\\begin{split}\n",
        "\\overline{r} &= \\frac{1}{card(\\Omega_{\\text{test}})} \\sum_{(i,j) \\in \\Omega_{\\text{test}}} \n",
        "       r_{ij} \n",
        "\\\\\n",
        "\\overline{r}^{\\text{pred}} &= \\frac{1}{card(\\Omega_{\\text{test}})} \\sum_{(i,j) \\in \\Omega_{\\text{test}}} \n",
        "       r^{\\text{pred}}_{ij} \n",
        "\\end{split}\n",
        "$$"
      ]
    },
    {
      "cell_type": "code",
      "source": [
        "i_user = 0\n",
        "# rows_train == i_user #I get true only when that user have given a rating to a movie in that position\n",
        "# vals_train[rows_train == i_user] #I get all the ratings gien by that user\n",
        "np.mean(vals_train[rows_train == i_user]) #I get the average rating of the given user"
      ],
      "metadata": {
        "colab": {
          "base_uri": "https://localhost:8080/"
        },
        "id": "8xpKNZEBhANW",
        "outputId": "cf98c884-e92f-4901-b03a-f7787eb50573"
      },
      "execution_count": null,
      "outputs": [
        {
          "output_type": "execute_result",
          "data": {
            "text/plain": [
              "3.6216216216216215"
            ]
          },
          "metadata": {},
          "execution_count": 21
        }
      ]
    },
    {
      "cell_type": "code",
      "metadata": {
        "colab": {
          "base_uri": "https://localhost:8080/"
        },
        "id": "rKTiFVdP9v2r",
        "outputId": "32ca4e26-2eb2-49cf-85b2-b15e1af7877b"
      },
      "source": [
        "#all the average ratings of each user\n",
        "avg_ratings = np.array([np.mean(vals_train[rows_train == i_user]) for i_user in range(n)])\n",
        "#predicted values by the trivial recomended system\n",
        "vals_trivial = avg_ratings[rows_test] #simply put the avg rating where we do not have a rating\n",
        "\n",
        "err_trivial = vals_test - vals_trivial #error: real value - the trivial value\n",
        "\n",
        "RMSE_trivial = np.sqrt(np.mean(err_trivial**2)) #RMSE error\n",
        "rho_trivial = pearsonr(vals_test, vals_trivial)[0] #pearson error\n",
        "\n",
        "print('RMSE: %1.3f' % RMSE_trivial)\n",
        "print('rho : %1.3f' % rho_trivial)"
      ],
      "execution_count": null,
      "outputs": [
        {
          "output_type": "stream",
          "name": "stdout",
          "text": [
            "RMSE: 1.043\n",
            "rho : 0.384\n"
          ]
        }
      ]
    },
    {
      "cell_type": "markdown",
      "metadata": {
        "id": "aQxUcttequN3"
      },
      "source": [
        "# Singular value truncation (SVT) based recommender system"
      ]
    },
    {
      "cell_type": "markdown",
      "metadata": {
        "id": "cLtvKy_kqz2D"
      },
      "source": [
        "Implement the SVT algorithm to predict the ratings of the testing set. Set a maximum number of iterations equal to 100. Print the RMSE and $\\rho$ at each iteration. Finally, plot the trend of both metrics.\n",
        "\n",
        "Try to calibrate the threshold to get better results."
      ]
    },
    {
      "cell_type": "code",
      "metadata": {
        "colab": {
          "base_uri": "https://localhost:8080/"
        },
        "id": "WzUHQSc0BfLi",
        "outputId": "27ef9c27-6a5c-40ed-d87b-955c4f8175af"
      },
      "source": [
        "n_max_iter = 100\n",
        "threshold = 100.0\n",
        "increment_tol = 1e-2\n",
        "\n",
        "#list to append the values and then plot them\n",
        "RMSE_list = list()\n",
        "rho_list = list()\n",
        "\n",
        "X_hat = X\n",
        "\n",
        "for k in range(n_max_iter):\n",
        "  X_old = X_hat.copy() #copy to be sure we are copying the value \n",
        "  \n",
        "  U,s,VT = np.linalg.svd(X_hat, full_matrices=False) #svd decomposition each time\n",
        "  \n",
        "  s[s < threshold] = 0 #put 0 on the singular value if s<threshold\n",
        "\n",
        "  X_hat = U @ np.diag(s) @ VT\n",
        "  X_hat[rows_train,cols_train] = vals_train \n",
        "  increment = np.linalg.norm(X_hat - X_old)\n",
        "  \n",
        "  #compute the trend of both metrics\n",
        "  vals_pred = X_hat[rows_test, cols_test]\n",
        "  err = vals_test - vals_pred\n",
        "  RMSE = np.sqrt(np.mean(err**2))\n",
        "  rho = pearsonr(vals_test, vals_pred)[0]\n",
        "  RMSE_list.append(RMSE)\n",
        "  rho_list.append(rho)\n",
        "  print('================== iter %d - increment %1.3e' % (k+1, increment))\n",
        "  print('RMSE: %1.3f' % RMSE)\n",
        "  print('rho : %1.3f' % rho)\n",
        "\n",
        "  if increment < increment_tol:\n",
        "    break"
      ],
      "execution_count": null,
      "outputs": [
        {
          "output_type": "stream",
          "name": "stdout",
          "text": [
            "================== iter 1 - increment 4.308e+02\n",
            "RMSE: 2.611\n",
            "rho : 0.314\n",
            "================== iter 2 - increment 2.581e+02\n",
            "RMSE: 2.166\n",
            "rho : 0.342\n",
            "================== iter 3 - increment 1.843e+02\n",
            "RMSE: 1.919\n",
            "rho : 0.364\n",
            "================== iter 4 - increment 1.433e+02\n",
            "RMSE: 1.758\n",
            "rho : 0.381\n",
            "================== iter 5 - increment 1.171e+02\n",
            "RMSE: 1.645\n",
            "rho : 0.395\n",
            "================== iter 6 - increment 9.887e+01\n",
            "RMSE: 1.561\n",
            "rho : 0.407\n",
            "================== iter 7 - increment 8.547e+01\n",
            "RMSE: 1.495\n",
            "rho : 0.417\n",
            "================== iter 8 - increment 7.521e+01\n",
            "RMSE: 1.443\n",
            "rho : 0.426\n",
            "================== iter 9 - increment 6.711e+01\n",
            "RMSE: 1.400\n",
            "rho : 0.433\n",
            "================== iter 10 - increment 6.056e+01\n",
            "RMSE: 1.364\n",
            "rho : 0.440\n",
            "================== iter 11 - increment 5.516e+01\n",
            "RMSE: 1.334\n",
            "rho : 0.445\n",
            "================== iter 12 - increment 5.063e+01\n",
            "RMSE: 1.308\n",
            "rho : 0.451\n",
            "================== iter 13 - increment 4.678e+01\n",
            "RMSE: 1.285\n",
            "rho : 0.455\n",
            "================== iter 14 - increment 4.347e+01\n",
            "RMSE: 1.265\n",
            "rho : 0.460\n",
            "================== iter 15 - increment 4.059e+01\n",
            "RMSE: 1.248\n",
            "rho : 0.464\n",
            "================== iter 16 - increment 3.807e+01\n",
            "RMSE: 1.233\n",
            "rho : 0.467\n",
            "================== iter 17 - increment 3.584e+01\n",
            "RMSE: 1.219\n",
            "rho : 0.471\n",
            "================== iter 18 - increment 3.385e+01\n",
            "RMSE: 1.206\n",
            "rho : 0.474\n",
            "================== iter 19 - increment 3.208e+01\n",
            "RMSE: 1.195\n",
            "rho : 0.477\n",
            "================== iter 20 - increment 3.047e+01\n",
            "RMSE: 1.185\n",
            "rho : 0.479\n",
            "================== iter 21 - increment 2.902e+01\n",
            "RMSE: 1.175\n",
            "rho : 0.482\n",
            "================== iter 22 - increment 2.771e+01\n",
            "RMSE: 1.167\n",
            "rho : 0.484\n",
            "================== iter 23 - increment 2.650e+01\n",
            "RMSE: 1.159\n",
            "rho : 0.486\n",
            "================== iter 24 - increment 2.540e+01\n",
            "RMSE: 1.152\n",
            "rho : 0.488\n",
            "================== iter 25 - increment 2.438e+01\n",
            "RMSE: 1.145\n",
            "rho : 0.490\n",
            "================== iter 26 - increment 2.344e+01\n",
            "RMSE: 1.139\n",
            "rho : 0.492\n",
            "================== iter 27 - increment 2.257e+01\n",
            "RMSE: 1.133\n",
            "rho : 0.494\n",
            "================== iter 28 - increment 2.177e+01\n",
            "RMSE: 1.128\n",
            "rho : 0.495\n",
            "================== iter 29 - increment 2.102e+01\n",
            "RMSE: 1.123\n",
            "rho : 0.497\n",
            "================== iter 30 - increment 2.032e+01\n",
            "RMSE: 1.118\n",
            "rho : 0.498\n",
            "================== iter 31 - increment 1.966e+01\n",
            "RMSE: 1.114\n",
            "rho : 0.500\n",
            "================== iter 32 - increment 1.905e+01\n",
            "RMSE: 1.109\n",
            "rho : 0.501\n",
            "================== iter 33 - increment 1.847e+01\n",
            "RMSE: 1.106\n",
            "rho : 0.502\n",
            "================== iter 34 - increment 1.793e+01\n",
            "RMSE: 1.102\n",
            "rho : 0.503\n",
            "================== iter 35 - increment 1.741e+01\n",
            "RMSE: 1.098\n",
            "rho : 0.505\n",
            "================== iter 36 - increment 1.693e+01\n",
            "RMSE: 1.095\n",
            "rho : 0.506\n",
            "================== iter 37 - increment 1.647e+01\n",
            "RMSE: 1.092\n",
            "rho : 0.507\n",
            "================== iter 38 - increment 1.604e+01\n",
            "RMSE: 1.089\n",
            "rho : 0.508\n",
            "================== iter 39 - increment 1.563e+01\n",
            "RMSE: 1.086\n",
            "rho : 0.509\n",
            "================== iter 40 - increment 1.524e+01\n",
            "RMSE: 1.084\n",
            "rho : 0.510\n",
            "================== iter 41 - increment 1.486e+01\n",
            "RMSE: 1.081\n",
            "rho : 0.510\n",
            "================== iter 42 - increment 1.451e+01\n",
            "RMSE: 1.079\n",
            "rho : 0.511\n",
            "================== iter 43 - increment 1.417e+01\n",
            "RMSE: 1.077\n",
            "rho : 0.512\n",
            "================== iter 44 - increment 1.385e+01\n",
            "RMSE: 1.074\n",
            "rho : 0.513\n",
            "================== iter 45 - increment 1.354e+01\n",
            "RMSE: 1.072\n",
            "rho : 0.514\n",
            "================== iter 46 - increment 1.325e+01\n",
            "RMSE: 1.070\n",
            "rho : 0.514\n",
            "================== iter 47 - increment 1.297e+01\n",
            "RMSE: 1.068\n",
            "rho : 0.515\n",
            "================== iter 48 - increment 1.270e+01\n",
            "RMSE: 1.067\n",
            "rho : 0.516\n",
            "================== iter 49 - increment 1.244e+01\n",
            "RMSE: 1.065\n",
            "rho : 0.516\n",
            "================== iter 50 - increment 1.219e+01\n",
            "RMSE: 1.063\n",
            "rho : 0.517\n",
            "================== iter 51 - increment 1.195e+01\n",
            "RMSE: 1.062\n",
            "rho : 0.518\n",
            "================== iter 52 - increment 1.172e+01\n",
            "RMSE: 1.060\n",
            "rho : 0.518\n",
            "================== iter 53 - increment 1.150e+01\n",
            "RMSE: 1.059\n",
            "rho : 0.519\n",
            "================== iter 54 - increment 1.129e+01\n",
            "RMSE: 1.057\n",
            "rho : 0.519\n",
            "================== iter 55 - increment 1.109e+01\n",
            "RMSE: 1.056\n",
            "rho : 0.520\n",
            "================== iter 56 - increment 1.089e+01\n",
            "RMSE: 1.055\n",
            "rho : 0.520\n",
            "================== iter 57 - increment 1.070e+01\n",
            "RMSE: 1.053\n",
            "rho : 0.521\n",
            "================== iter 58 - increment 1.052e+01\n",
            "RMSE: 1.052\n",
            "rho : 0.521\n",
            "================== iter 59 - increment 1.034e+01\n",
            "RMSE: 1.051\n",
            "rho : 0.522\n",
            "================== iter 60 - increment 1.017e+01\n",
            "RMSE: 1.050\n",
            "rho : 0.522\n",
            "================== iter 61 - increment 1.001e+01\n",
            "RMSE: 1.049\n",
            "rho : 0.522\n",
            "================== iter 62 - increment 9.847e+00\n",
            "RMSE: 1.048\n",
            "rho : 0.523\n",
            "================== iter 63 - increment 9.692e+00\n",
            "RMSE: 1.047\n",
            "rho : 0.523\n",
            "================== iter 64 - increment 9.543e+00\n",
            "RMSE: 1.046\n",
            "rho : 0.524\n",
            "================== iter 65 - increment 9.398e+00\n",
            "RMSE: 1.045\n",
            "rho : 0.524\n",
            "================== iter 66 - increment 9.258e+00\n",
            "RMSE: 1.044\n",
            "rho : 0.524\n",
            "================== iter 67 - increment 9.122e+00\n",
            "RMSE: 1.043\n",
            "rho : 0.525\n",
            "================== iter 68 - increment 8.990e+00\n",
            "RMSE: 1.043\n",
            "rho : 0.525\n",
            "================== iter 69 - increment 8.862e+00\n",
            "RMSE: 1.042\n",
            "rho : 0.525\n",
            "================== iter 70 - increment 8.738e+00\n",
            "RMSE: 1.041\n",
            "rho : 0.526\n",
            "================== iter 71 - increment 8.617e+00\n",
            "RMSE: 1.040\n",
            "rho : 0.526\n",
            "================== iter 72 - increment 8.500e+00\n",
            "RMSE: 1.040\n",
            "rho : 0.526\n",
            "================== iter 73 - increment 8.386e+00\n",
            "RMSE: 1.039\n",
            "rho : 0.526\n",
            "================== iter 74 - increment 8.275e+00\n",
            "RMSE: 1.038\n",
            "rho : 0.527\n",
            "================== iter 75 - increment 8.167e+00\n",
            "RMSE: 1.038\n",
            "rho : 0.527\n",
            "================== iter 76 - increment 8.063e+00\n",
            "RMSE: 1.037\n",
            "rho : 0.527\n",
            "================== iter 77 - increment 7.961e+00\n",
            "RMSE: 1.036\n",
            "rho : 0.527\n",
            "================== iter 78 - increment 7.861e+00\n",
            "RMSE: 1.036\n",
            "rho : 0.528\n",
            "================== iter 79 - increment 7.765e+00\n",
            "RMSE: 1.035\n",
            "rho : 0.528\n",
            "================== iter 80 - increment 7.671e+00\n",
            "RMSE: 1.035\n",
            "rho : 0.528\n",
            "================== iter 81 - increment 7.579e+00\n",
            "RMSE: 1.034\n",
            "rho : 0.528\n",
            "================== iter 82 - increment 7.489e+00\n",
            "RMSE: 1.034\n",
            "rho : 0.529\n",
            "================== iter 83 - increment 7.402e+00\n",
            "RMSE: 1.033\n",
            "rho : 0.529\n",
            "================== iter 84 - increment 7.317e+00\n",
            "RMSE: 1.033\n",
            "rho : 0.529\n",
            "================== iter 85 - increment 7.234e+00\n",
            "RMSE: 1.032\n",
            "rho : 0.529\n",
            "================== iter 86 - increment 7.153e+00\n",
            "RMSE: 1.032\n",
            "rho : 0.529\n",
            "================== iter 87 - increment 7.074e+00\n",
            "RMSE: 1.031\n",
            "rho : 0.530\n",
            "================== iter 88 - increment 6.997e+00\n",
            "RMSE: 1.031\n",
            "rho : 0.530\n",
            "================== iter 89 - increment 6.921e+00\n",
            "RMSE: 1.030\n",
            "rho : 0.530\n",
            "================== iter 90 - increment 6.848e+00\n",
            "RMSE: 1.030\n",
            "rho : 0.530\n",
            "================== iter 91 - increment 6.776e+00\n",
            "RMSE: 1.030\n",
            "rho : 0.530\n",
            "================== iter 92 - increment 6.705e+00\n",
            "RMSE: 1.029\n",
            "rho : 0.530\n",
            "================== iter 93 - increment 6.636e+00\n",
            "RMSE: 1.029\n",
            "rho : 0.530\n",
            "================== iter 94 - increment 6.569e+00\n",
            "RMSE: 1.029\n",
            "rho : 0.531\n",
            "================== iter 95 - increment 6.503e+00\n",
            "RMSE: 1.028\n",
            "rho : 0.531\n",
            "================== iter 96 - increment 6.439e+00\n",
            "RMSE: 1.028\n",
            "rho : 0.531\n",
            "================== iter 97 - increment 6.376e+00\n",
            "RMSE: 1.028\n",
            "rho : 0.531\n",
            "================== iter 98 - increment 6.314e+00\n",
            "RMSE: 1.027\n",
            "rho : 0.531\n",
            "================== iter 99 - increment 6.254e+00\n",
            "RMSE: 1.027\n",
            "rho : 0.531\n",
            "================== iter 100 - increment 6.195e+00\n",
            "RMSE: 1.027\n",
            "rho : 0.531\n"
          ]
        }
      ]
    },
    {
      "cell_type": "code",
      "metadata": {
        "colab": {
          "base_uri": "https://localhost:8080/",
          "height": 721
        },
        "id": "MCu03gNyDopq",
        "outputId": "270b7074-5d5e-4306-bb8b-d1c0fbcb86cc"
      },
      "source": [
        "fig, axs = plt.subplots(2,1,figsize = (12,12))\n",
        "axs[0].loglog(RMSE_list, 'o-')\n",
        "axs[0].axhline(RMSE_trivial, color = 'red')\n",
        "axs[1].loglog(rho_list, 'o-')\n",
        "axs[1].axhline(rho_trivial, color = 'red')\n"
      ],
      "execution_count": null,
      "outputs": [
        {
          "output_type": "execute_result",
          "data": {
            "text/plain": [
              "<matplotlib.lines.Line2D at 0x7f63e8d44cd0>"
            ]
          },
          "metadata": {},
          "execution_count": 50
        },
        {
          "output_type": "display_data",
          "data": {
            "image/png": "[encoded data removed]",
            "text/plain": [
              "<Figure size 864x864 with 2 Axes>"
            ]
          },
          "metadata": {
            "needs_background": "light"
          }
        }
      ]
    }
  ]
}