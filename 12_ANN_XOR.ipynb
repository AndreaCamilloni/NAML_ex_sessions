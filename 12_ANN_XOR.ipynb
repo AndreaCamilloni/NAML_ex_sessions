{
  "nbformat": 4,
  "nbformat_minor": 0,
  "metadata": {
    "colab": {
      "name": "12_ANN_XOR.ipynb",
      "provenance": [],
      "collapsed_sections": []
    },
    "kernelspec": {
      "name": "python3",
      "display_name": "Python 3"
    }
  },
  "cells": [
    {
      "cell_type": "markdown",
      "metadata": {
        "id": "e7q1DhWpV-Dw"
      },
      "source": [
        "# Feed-forward Artificial Neural Networks"
      ]
    },
    {
      "cell_type": "code",
      "metadata": {
        "id": "Si_DpGyVWZ5I"
      },
      "source": [
        "import numpy as np\n",
        "import jax.numpy as jnp\n",
        "import jax\n",
        "import matplotlib.pyplot as plt\n",
        "import time"
      ],
      "execution_count": 1,
      "outputs": []
    },
    {
      "cell_type": "markdown",
      "metadata": {
        "id": "6fgIf3Q2h-y9"
      },
      "source": [
        "## Learning the XOR function"
      ]
    },
    {
      "cell_type": "markdown",
      "metadata": {
        "id": "BuwxfYc1Nuve"
      },
      "source": [
        "Let us consider the XOR (\"exclusive or\") function. The [truth table](https://en.wikipedia.org/wiki/Exclusive_or#Truth_table) of the XOR function is:"
      ]
    },
    {
      "cell_type": "code",
      "metadata": {
        "id": "nL5iPi8pAn1A"
      },
      "source": [
        "inputs = jnp.array([[0, 0], \n",
        "                   [0, 1], \n",
        "                   [1, 0], \n",
        "                   [1, 1]])\n",
        "outputs = jnp.array([[0], \n",
        "                    [1], \n",
        "                    [1], \n",
        "                    [0]])"
      ],
      "execution_count": 49,
      "outputs": []
    },
    {
      "cell_type": "code",
      "source": [
        "outputs.shape"
      ],
      "metadata": {
        "colab": {
          "base_uri": "https://localhost:8080/"
        },
        "id": "WZplMwsRS84J",
        "outputId": "159586c3-fc97-42e9-8616-1accc6980771"
      },
      "execution_count": 3,
      "outputs": [
        {
          "output_type": "execute_result",
          "data": {
            "text/plain": [
              "(4, 1)"
            ]
          },
          "metadata": {},
          "execution_count": 3
        }
      ]
    },
    {
      "cell_type": "markdown",
      "metadata": {
        "id": "mN2lsp8_OhdE"
      },
      "source": [
        "We consider a fully connected ANN with the following architechture and with $\\tanh(\\cdot)$ as activation function:"
      ]
    },
    {
      "cell_type": "markdown",
      "metadata": {
        "id": "z4IJ5bELOFaE"
      },
      "source": [
        "![image.png](data:image/png;base64,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)\n",
        "\n",
        "the input has 2 features and the output one value. Please note that we want 0 or 1 in out but we have a continuos function.. so we have to use an activation function to map the out in 0 or 1\n"
      ]
    },
    {
      "cell_type": "markdown",
      "metadata": {
        "id": "MQaMGVspOmzg"
      },
      "source": [
        "The input of the network are the truth values of the two inputs (0 = False, 1 = True). The output is the **likelihood** (the \"probability\") of the truth value of the result. Hence, we want the output to be in $[0, 1]$. For this reason, we apply the activation function also to the last layer, and we rescale the output between 0 and 1.\n",
        "\n",
        "\n",
        "The architecture is defined by the following **hyperparameters**:"
      ]
    },
    {
      "cell_type": "code",
      "metadata": {
        "id": "0FS-SIHhOuDI"
      },
      "source": [
        "n1, n2, n3, n4 = 2, 4, 3, 1"
      ],
      "execution_count": 5,
      "outputs": []
    },
    {
      "cell_type": "markdown",
      "metadata": {
        "id": "ycLmo_SEOufa"
      },
      "source": [
        "Define the parameters (weights and biases) of the ANN. \n",
        "Initialize the weights sampling from a standard normal distribution, and initialize to zero the biases.\n",
        "\n",
        "Define both the weights and the biases as a 2-dimensional `numpy` array."
      ]
    },
    {
      "cell_type": "code",
      "metadata": {
        "id": "qHYsfefMPAg1"
      },
      "source": [
        "np.random.seed(0) # for reproducibility\n",
        "\n",
        "def initialize_params():\n",
        "  W1 = np.random.randn(n2,n1)\n",
        "  b1 = np.zeros((n2,1))\n",
        "\n",
        "  W2 = np.random.randn(n3,n2)\n",
        "  b2 = np.zeros((n3,1))\n",
        "\n",
        "  W3 = np.random.randn(n4,n3)\n",
        "  b3 = np.zeros((n4,1))\n",
        "  return [W1, b1, W2, b2, W3, b3]\n",
        "params = initialize_params"
      ],
      "execution_count": 63,
      "outputs": []
    },
    {
      "cell_type": "markdown",
      "metadata": {
        "id": "1Yyyub0aPP2V"
      },
      "source": [
        "Define a function that implements the ANN:\n",
        "```python\n",
        "def ANN(x, params):\n",
        "  ...\n",
        "```\n",
        "with inputs:\n",
        "- `x`: num_samples by 2 `numpy` array\n",
        "- `params`: list of the parameters\n",
        "and with output\n",
        "- `y`: num_samples by 1 `numpy` array\n",
        "\n",
        "Then, test the function on `inputs` and `params`."
      ]
    },
    {
      "cell_type": "code",
      "source": [
        "def ANN(x, params):\n",
        "  W1, b1, W2, b2, W3, b3 = params #we \"extract\" the params\n",
        "  #return W3 @ (W2 @ (W1 @ x.transpose() - b1).transpose() - b2) - b3\n",
        "  layer1 = x.T\n",
        "  layer2 =  jnp.tanh(jnp.dot(W1, layer1) - b1)\n",
        "  layer3 =  jnp.tanh(jnp.dot(W2, layer2) - b2)\n",
        "  layer4 =  jnp.tanh(jnp.dot(W3, layer3) - b3)\n",
        "  layer4 = (1.+ layer4) / 2\n",
        "  return layer4.T\n",
        "ANN(inputs, params)"
      ],
      "metadata": {
        "colab": {
          "base_uri": "https://localhost:8080/"
        },
        "id": "HthhTFv8UlKg",
        "outputId": "0a4dbeec-5a83-45f7-e6c2-6895c712f672"
      },
      "execution_count": 35,
      "outputs": [
        {
          "output_type": "stream",
          "name": "stderr",
          "text": [
            "WARNING:absl:No GPU/TPU found, falling back to CPU. (Set TF_CPP_MIN_LOG_LEVEL=0 and rerun for more info.)\n"
          ]
        },
        {
          "output_type": "execute_result",
          "data": {
            "text/plain": [
              "DeviceArray([[0.5       ],\n",
              "             [0.57224154],\n",
              "             [0.107804  ],\n",
              "             [0.10987768]], dtype=float32)"
            ]
          },
          "metadata": {},
          "execution_count": 35
        }
      ]
    },
    {
      "cell_type": "markdown",
      "metadata": {
        "id": "OE_CG1D5NU0j"
      },
      "source": [
        "Print the truth table associated with the ANN."
      ]
    },
    {
      "cell_type": "code",
      "source": [
        "np.array([[1,0]]).shape, np.array([1,0]).shape"
      ],
      "metadata": {
        "colab": {
          "base_uri": "https://localhost:8080/"
        },
        "id": "x_JSlOtHZBA0",
        "outputId": "1796c74e-350f-4ae9-f474-a89eb0c2bb4b"
      },
      "execution_count": 36,
      "outputs": [
        {
          "output_type": "execute_result",
          "data": {
            "text/plain": [
              "((1, 2), (2,))"
            ]
          },
          "metadata": {},
          "execution_count": 36
        }
      ]
    },
    {
      "cell_type": "code",
      "metadata": {
        "id": "StmWXQ_fNPTv",
        "colab": {
          "base_uri": "https://localhost:8080/"
        },
        "outputId": "d54393a5-ce3c-4a9d-ef27-9e0745a55e88"
      },
      "source": [
        "for a in (0,1):\n",
        "  for b in (0,1):\n",
        "    #out = 1 if a!=b else 0\n",
        "    out = ANN(np.array([[a,b]]),params)\n",
        "    \n",
        "    print('%d XOR %d --> %f' % (a, b, out))"
      ],
      "execution_count": 37,
      "outputs": [
        {
          "output_type": "stream",
          "name": "stdout",
          "text": [
            "0 XOR 0 --> 0.500000\n",
            "0 XOR 1 --> 0.572242\n",
            "1 XOR 0 --> 0.107804\n",
            "1 XOR 1 --> 0.109878\n"
          ]
        }
      ]
    },
    {
      "cell_type": "markdown",
      "metadata": {
        "id": "Nm18cNaRP49-"
      },
      "source": [
        "Define a function that computes the quadratic loss on a set of data:\n",
        "```python\n",
        "def loss_quadratic(x, y, params):\n",
        "  ...\n",
        "```\n",
        "with inputs:\n",
        "- `x`: num_samples by 2 `numpy` array\n",
        "- `y`: num_samples by 1 `numpy` array\n",
        "- `params`: list of the parameters\n",
        "and with output\n",
        "- `loss`: scalar\n",
        "\n",
        "Then, test the function on `inputs`, `outputs` and `params`."
      ]
    },
    {
      "cell_type": "code",
      "source": [
        "def loss_quadratic(x, y, params):\n",
        "  y_pred = ANN(x,params)\n",
        "  return jnp.sum(jnp.square(y-y_pred))\n",
        "float(loss_quadratic(inputs, outputs, params))"
      ],
      "metadata": {
        "colab": {
          "base_uri": "https://localhost:8080/"
        },
        "id": "a8nAo3k3Z2uy",
        "outputId": "34b5cc48-bb00-4d7c-c4d3-e1887902496f"
      },
      "execution_count": 51,
      "outputs": [
        {
          "output_type": "execute_result",
          "data": {
            "text/plain": [
              "1.241064190864563"
            ]
          },
          "metadata": {},
          "execution_count": 51
        }
      ]
    },
    {
      "cell_type": "markdown",
      "metadata": {
        "id": "Vy0eUFRTQidW"
      },
      "source": [
        "Define a function that computes the cross-entropy loss on a set of data:\n",
        "```python\n",
        "def loss_crossentropy(x, y, params):\n",
        "  ...\n",
        "```\n",
        "with inputs:\n",
        "- `x`: num_samples by 2 `numpy` array\n",
        "- `y`: num_samples by 1 `numpy` array\n",
        "- `params`: list of the parameters\n",
        "and with output\n",
        "- `loss`: scalar\n",
        "\n",
        "Then, test the function on `inputs`, `outputs` and `params`."
      ]
    },
    {
      "cell_type": "code",
      "source": [
        "def loss_xEnt(x, y, params):\n",
        "  y_pred = ANN(x,params)\n",
        "  error = (y * jnp.log(y_pred)+ (1-y) * jnp.log(1-y_pred))\n",
        "  return -jnp.sum(error)\n",
        "\n",
        "loss_xEnt(inputs, outputs, params)"
      ],
      "metadata": {
        "colab": {
          "base_uri": "https://localhost:8080/"
        },
        "id": "lxin3rgzacV-",
        "outputId": "289286a5-bca2-46d4-ec65-52d4bd3550f3"
      },
      "execution_count": 52,
      "outputs": [
        {
          "output_type": "execute_result",
          "data": {
            "text/plain": [
              "DeviceArray(3.5951784, dtype=float32)"
            ]
          },
          "metadata": {},
          "execution_count": 52
        }
      ]
    },
    {
      "cell_type": "markdown",
      "metadata": {
        "id": "SLgljjyzQzV_"
      },
      "source": [
        "Using the JIT module of JAX, compile both the losses defined above and their gradients w.r.t. the parameters."
      ]
    },
    {
      "cell_type": "code",
      "source": [
        "grad_quadr = jax.grad(loss_quadratic, argnums=2)\n",
        "grad_Xent = jax.grad(loss_xEnt, argnums=2)\n",
        "#to use jax i have to use all the function as jnp"
      ],
      "metadata": {
        "id": "2MFEJNk8brYn"
      },
      "execution_count": 54,
      "outputs": []
    },
    {
      "cell_type": "code",
      "source": [
        "grad_quad_jit = jax.jit(grad_quadr)\n",
        "grad_Xent_jit = jax.jit(grad_Xent)\n",
        "loss_quad_jit = jax.jit(loss_quadratic)\n",
        "loss_Xent_jit = jax.jit(loss_xEnt)"
      ],
      "metadata": {
        "id": "p8ZgrfqocrtL"
      },
      "execution_count": 55,
      "outputs": []
    },
    {
      "cell_type": "code",
      "source": [
        "%timeit loss_quadratic(inputs, outputs, params)"
      ],
      "metadata": {
        "colab": {
          "base_uri": "https://localhost:8080/"
        },
        "id": "nYqCWvaydGBR",
        "outputId": "4dfceab6-7076-4853-f0c2-f2c33b293b7a"
      },
      "execution_count": 46,
      "outputs": [
        {
          "output_type": "stream",
          "name": "stdout",
          "text": [
            "The slowest run took 13.46 times longer than the fastest. This could mean that an intermediate result is being cached.\n",
            "10000 loops, best of 5: 188 µs per loop\n"
          ]
        }
      ]
    },
    {
      "cell_type": "code",
      "source": [
        "%timeit loss_quad_jit(inputs, outputs, params)"
      ],
      "metadata": {
        "colab": {
          "base_uri": "https://localhost:8080/"
        },
        "id": "1IF0c1Qve_9n",
        "outputId": "34bb068f-cd2b-4466-808e-547194fe5bf6"
      },
      "execution_count": 59,
      "outputs": [
        {
          "output_type": "stream",
          "name": "stdout",
          "text": [
            "The slowest run took 4580.62 times longer than the fastest. This could mean that an intermediate result is being cached.\n",
            "100000 loops, best of 5: 16.3 µs per loop\n"
          ]
        }
      ]
    },
    {
      "cell_type": "code",
      "source": [
        "%timeit loss_xEnt(inputs, outputs, params)\n"
      ],
      "metadata": {
        "colab": {
          "base_uri": "https://localhost:8080/"
        },
        "id": "gQZeyljidSH4",
        "outputId": "d67bc479-589d-4b64-8189-089f5b3e601a"
      },
      "execution_count": 57,
      "outputs": [
        {
          "output_type": "stream",
          "name": "stdout",
          "text": [
            "The slowest run took 8.32 times longer than the fastest. This could mean that an intermediate result is being cached.\n",
            "1000 loops, best of 5: 273 µs per loop\n"
          ]
        }
      ]
    },
    {
      "cell_type": "code",
      "source": [
        "%timeit loss_Xent_jit(inputs, outputs, params)"
      ],
      "metadata": {
        "colab": {
          "base_uri": "https://localhost:8080/"
        },
        "id": "ansSGwrtdqTd",
        "outputId": "0d80617c-765d-4941-fc70-f1c83a7c1cf1"
      },
      "execution_count": 58,
      "outputs": [
        {
          "output_type": "stream",
          "name": "stdout",
          "text": [
            "The slowest run took 13.94 times longer than the fastest. This could mean that an intermediate result is being cached.\n",
            "100000 loops, best of 5: 16.1 µs per loop\n"
          ]
        }
      ]
    },
    {
      "cell_type": "markdown",
      "metadata": {
        "id": "QVc8uATbQ3t-"
      },
      "source": [
        "Implement the GD (gradient descent) method, with learning rate 0.1 and train the ANN, using either the quadratic or the cross-entropy loss function.\n",
        "Collect the training history of both loss functions at each training epoch and plot them. \n",
        "\n",
        "Finally, print the truth table associated with the ANN and compute its accuracy."
      ]
    },
    {
      "cell_type": "code",
      "source": [
        "learning_rate = 0.1\n",
        "max_iterations = 1000\n",
        "\n",
        "np.random.seed(0)\n",
        "params = initialize_params()\n",
        "\n",
        "history_quad = [loss_quad_jit(inputs, outputs, params)]\n",
        "history_xEnt = [loss_Xent_jit(inputs, outputs, params)]\n",
        "\n",
        "t0 = time.time()\n",
        "for epoch in range(max_iterations):\n",
        "  grads = grad_quad_jit(inputs, outputs, params) # we loop over grads\n",
        "  for i in range(len(params)):\n",
        "    params[i] -= learning_rate * grads[i]\n",
        "  history_quad.append(loss_quad_jit(inputs,outputs,params))\n",
        "  history_xEnt.append(loss_Xent_jit(inputs,outputs,params))\n",
        "duration = time.time() - t0\n",
        "\n",
        "print('duration: %f s' % duration)\n",
        "print('Quad loss: %1.2e' % history_quad[-1])\n",
        "print('Xent loss: %1.2e' % history_xEnt[-1])\n",
        "\n",
        "plt.semilogy(history_quad, label = 'Quadratic loss')\n",
        "plt.semilogy(history_xEnt, label = 'CrossEntropy loss')\n",
        "plt.legend()"
      ],
      "metadata": {
        "colab": {
          "base_uri": "https://localhost:8080/",
          "height": 338
        },
        "id": "a8M4frBOenZz",
        "outputId": "79dfddb1-554c-4f40-ca3c-ce8d374ea31f"
      },
      "execution_count": 67,
      "outputs": [
        {
          "output_type": "stream",
          "name": "stdout",
          "text": [
            "duration: 0.100462 s\n",
            "Quad loss: 6.04e-04\n",
            "Xent loss: 4.72e-02\n"
          ]
        },
        {
          "output_type": "execute_result",
          "data": {
            "text/plain": [
              "<matplotlib.legend.Legend at 0x7ffa819ff510>"
            ]
          },
          "metadata": {},
          "execution_count": 67
        },
        {
          "output_type": "display_data",
          "data": {
            "image/png": "[encoded data removed]",
            "text/plain": [
              "<Figure size 432x288 with 1 Axes>"
            ]
          },
          "metadata": {
            "needs_background": "light"
          }
        }
      ]
    },
    {
      "cell_type": "markdown",
      "source": [
        "train guided by the crossentropy loss"
      ],
      "metadata": {
        "id": "yh81kUA7g6PM"
      }
    },
    {
      "cell_type": "code",
      "source": [
        "learning_rate = 0.1\n",
        "max_iterations = 1000\n",
        "\n",
        "np.random.seed(0)\n",
        "params = initialize_params()\n",
        "\n",
        "history_quad = [loss_quad_jit(inputs, outputs, params)]\n",
        "history_xEnt = [loss_Xent_jit(inputs, outputs, params)]\n",
        "\n",
        "t0 = time.time()\n",
        "for epoch in range(max_iterations):\n",
        "  grads = grad_Xent_jit(inputs, outputs, params) # we loop over grads\n",
        "  for i in range(len(params)):\n",
        "    params[i] -= learning_rate * grads[i]\n",
        "  history_quad.append(loss_quad_jit(inputs,outputs,params))\n",
        "  history_xEnt.append(loss_Xent_jit(inputs,outputs,params))\n",
        "duration = time.time() - t0\n",
        "\n",
        "print('duration: %f s' % duration)\n",
        "print('Quad loss: %1.2e' % history_quad[-1])\n",
        "print('Xent loss: %1.2e' % history_xEnt[-1])\n",
        "\n",
        "plt.semilogy(history_quad, label = 'Quadratic loss')\n",
        "plt.semilogy(history_xEnt, label = 'CrossEntropy loss')\n",
        "plt.legend()"
      ],
      "metadata": {
        "colab": {
          "base_uri": "https://localhost:8080/",
          "height": 339
        },
        "id": "wmvFuLZ_fwMn",
        "outputId": "7bc4e03e-ac36-4ced-dcae-d05d69dd337e"
      },
      "execution_count": 68,
      "outputs": [
        {
          "output_type": "stream",
          "name": "stdout",
          "text": [
            "duration: 0.329017 s\n",
            "Quad loss: 1.12e-06\n",
            "Xent loss: 1.88e-03\n"
          ]
        },
        {
          "output_type": "execute_result",
          "data": {
            "text/plain": [
              "<matplotlib.legend.Legend at 0x7ffa81a48290>"
            ]
          },
          "metadata": {},
          "execution_count": 68
        },
        {
          "output_type": "display_data",
          "data": {
            "image/png": "[encoded data removed]",
            "text/plain": [
              "<Figure size 432x288 with 1 Axes>"
            ]
          },
          "metadata": {
            "needs_background": "light"
          }
        }
      ]
    },
    {
      "cell_type": "markdown",
      "source": [
        "**Truth table after training:** no we have better values than in the initial case..."
      ],
      "metadata": {
        "id": "oapqubXviINx"
      }
    },
    {
      "cell_type": "code",
      "source": [
        "for a in (0,1):\n",
        "  for b in (0,1):\n",
        "    #out = 1 if a!=b else 0\n",
        "    out = ANN(np.array([[a,b]]),params)\n",
        "    \n",
        "    print('%d XOR %d --> %f' % (a, b, out))"
      ],
      "metadata": {
        "colab": {
          "base_uri": "https://localhost:8080/"
        },
        "id": "pvlKsz3FiNN5",
        "outputId": "d16f0593-99e1-4da7-e4fc-2eb0cfe9808a"
      },
      "execution_count": 69,
      "outputs": [
        {
          "output_type": "stream",
          "name": "stdout",
          "text": [
            "0 XOR 0 --> 0.000174\n",
            "0 XOR 1 --> 0.999637\n",
            "1 XOR 0 --> 0.999160\n",
            "1 XOR 1 --> 0.000499\n"
          ]
        }
      ]
    },
    {
      "cell_type": "code",
      "source": [
        "TP = ANN(np.array([[1,0],\n",
        "                   [1,0]]), params)\n",
        "TN = 1 - ANN(np.array([[0,0],\n",
        "                   [1,1]]), params)\n",
        "accuracy= (sum(TP) + sum(TN)) / 4\n",
        "print(accuracy)"
      ],
      "metadata": {
        "colab": {
          "base_uri": "https://localhost:8080/"
        },
        "id": "HQbD7xlOib8Q",
        "outputId": "76751b5f-174c-4fa6-b2c5-cf9d24160d5e"
      },
      "execution_count": 73,
      "outputs": [
        {
          "output_type": "stream",
          "name": "stdout",
          "text": [
            "[0.99941146]\n"
          ]
        }
      ]
    }
  ]
}