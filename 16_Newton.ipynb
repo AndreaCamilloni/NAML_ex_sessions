{
  "nbformat": 4,
  "nbformat_minor": 0,
  "metadata": {
    "colab": {
      "name": "16_Newton.ipynb",
      "provenance": [],
      "collapsed_sections": []
    },
    "kernelspec": {
      "name": "python3",
      "display_name": "Python 3"
    },
    "language_info": {
      "name": "python"
    }
  },
  "cells": [
    {
      "cell_type": "markdown",
      "metadata": {
        "id": "bZCDNUgw0nI3"
      },
      "source": [
        "# Newton method"
      ]
    },
    {
      "cell_type": "code",
      "metadata": {
        "id": "IJcJCwFhc8cs"
      },
      "source": [
        "import numpy as np\n",
        "import matplotlib.pyplot as plt\n",
        "import time\n",
        "import jax.numpy as jnp\n",
        "import jax\n",
        "\n",
        "# We enable double precision in JAX\n",
        "from jax.config import config\n",
        "config.update(\"jax_enable_x64\", True)"
      ],
      "execution_count": 49,
      "outputs": []
    },
    {
      "cell_type": "markdown",
      "metadata": {
        "id": "7qkdJdGg1AP1"
      },
      "source": [
        "We consider a random matrix $A \\in \\mathbb{R}^{n\\times n}$, with $n = 100$ and a random vector $\\mathbf{x}_{\\text{ex}} \\in \\mathbb{R}^n$.\n",
        "We define then $\\mathbf{b} = A \\, \\mathbf{x}_{\\text{ex}}$."
      ]
    },
    {
      "cell_type": "code",
      "metadata": {
        "id": "c0h8ihCddDPf"
      },
      "source": [
        "n = 100\n",
        "\n",
        "np.random.seed(0)\n",
        "A = np.random.randn(n,n)\n",
        "x_ex = np.random.randn(n)\n",
        "b = A @ x_ex"
      ],
      "execution_count": 50,
      "outputs": []
    },
    {
      "cell_type": "markdown",
      "metadata": {
        "id": "UanVhF4xAVoX"
      },
      "source": [
        "Define the loss function\n",
        "\n",
        "$$\n",
        "\\mathcal{L}(\\mathbf{x}) = \\| \\mathbf{b} - A \\, \\mathbf{x} \\|_2^2\n",
        "$$"
      ]
    },
    {
      "cell_type": "code",
      "source": [
        "def loss(x):\n",
        "  return np.sum((b - A@x)**2)"
      ],
      "metadata": {
        "id": "69LsTWE_f0Ar"
      },
      "execution_count": 51,
      "outputs": []
    },
    {
      "cell_type": "markdown",
      "metadata": {
        "id": "uAZ9XGaiAs3X"
      },
      "source": [
        "By using the `jax` library, implement and compile functins returning the gradient ($\\nabla \\mathcal{J}(\\mathbf{x})$) and the hessian ($\\nabla^2 \\mathcal{J}(\\mathbf{x})$) of the loss function (*Hint*: use the `jacrev` or the `jacfwd`) function."
      ]
    },
    {
      "cell_type": "code",
      "metadata": {
        "id": "KflmuLXld2T4"
      },
      "source": [
        "grad = jax.grad(loss)\n",
        "#hess = jax.jacrev(grad) #reverse automatic diff: convenient when we have many inputs\n",
        "hess = jax.jacfwd(grad) #forward automatic diff: convenient when we have many outputs\n",
        "\n",
        "\n",
        "loss_jit = jax.jit(loss)\n",
        "grad_jit = jax.jit(grad)\n",
        "hess_jit = jax.jit(hess)"
      ],
      "execution_count": 52,
      "outputs": []
    },
    {
      "cell_type": "markdown",
      "metadata": {
        "id": "bSMg8ocDBndO"
      },
      "source": [
        "Check that the results are correct (up to machine precision)."
      ]
    },
    {
      "cell_type": "code",
      "metadata": {
        "id": "xZulGRQ1efFP",
        "colab": {
          "base_uri": "https://localhost:8080/"
        },
        "outputId": "78a21a74-ca5e-4419-df87-c423094c216a"
      },
      "source": [
        "np.random.seed(0)\n",
        "x_guess = np.random.randn(n)\n",
        "\n",
        "G_ad = grad_jit(x_guess) #using the gradient define above\n",
        "G_ex = 2 * A.T @ (A @ x_guess - b) #using the formulas\n",
        "print(np.linalg.norm(G_ad - G_ex))\n",
        "\n",
        "H_ad = hess_jit(x_guess)\n",
        "H_ex = 2 * A.T @ A\n",
        "print(np.linalg.norm(H_ad - H_ex))\n",
        "\n",
        "#we get in both ways a small error"
      ],
      "execution_count": 53,
      "outputs": [
        {
          "output_type": "stream",
          "name": "stdout",
          "text": [
            "2.1386862836549995e-12\n",
            "5.159031549839615e-13\n"
          ]
        }
      ]
    },
    {
      "cell_type": "markdown",
      "metadata": {
        "id": "b-gA_kKPB2SV"
      },
      "source": [
        "Exploit the formula\n",
        "$$\n",
        "\\nabla^2 \\mathcal{J}(\\mathbf{x}) \\mathbf{v} = \\nabla_{\\mathbf{x}} \\phi(\\mathbf{x}, \\mathbf{v})\n",
        "$$\n",
        "where \n",
        "$$\n",
        "\\phi(\\mathbf{x}, \\mathbf{v}) := \\nabla \\mathcal{J}(\\mathbf{x}) \\cdot \\mathbf{v}\n",
        "$$\n",
        "to write an optimized function returning the hessian-vector-product\n",
        "$$\n",
        "(\\mathbf{x}, \\mathbf{v}) \\mapsto \\nabla^2 \\mathcal{J}(\\mathbf{x}) \\mathbf{v}.\n",
        "$$\n",
        "Compare the computational performance w.r.t. the full hessian computation."
      ]
    },
    {
      "cell_type": "code",
      "metadata": {
        "id": "T9969dU4kc6f",
        "colab": {
          "base_uri": "https://localhost:8080/"
        },
        "outputId": "c6e07174-dee6-4930-ab74-67881e20ca5e"
      },
      "source": [
        "np.random.seed(1)\n",
        "v = np.random.randn(n)\n",
        "\n",
        "hvp_basic = lambda x, v: hess(x) @ v\n",
        "gvp = lambda x,v: jnp.vdot(grad(x), v)\n",
        "hvp = jax.grad(gvp, argnums = 0 )\n",
        "\n",
        "hvp_basic_jit = jax.jit(hvp_basic)\n",
        "hvp_jit = jax.jit(hvp)\n",
        "\n",
        "Hv_ad = hvp_jit(x_guess, v)\n",
        "Hv_ex = H_ex @ v\n",
        "print(np.linalg.norm(Hv_ad - Hv_ex))"
      ],
      "execution_count": 54,
      "outputs": [
        {
          "output_type": "stream",
          "name": "stdout",
          "text": [
            "1.2715738311164232e-12\n"
          ]
        }
      ]
    },
    {
      "cell_type": "code",
      "metadata": {
        "id": "jsA4eUnuj3ju",
        "colab": {
          "base_uri": "https://localhost:8080/"
        },
        "outputId": "e74dcc0a-3591-40c9-b744-e1c1b9c11850"
      },
      "source": [
        "%timeit hvp_basic_jit(x_guess, v)\n",
        "%timeit hvp_jit(x_guess, v)"
      ],
      "execution_count": 55,
      "outputs": [
        {
          "output_type": "stream",
          "name": "stdout",
          "text": [
            "The slowest run took 293.25 times longer than the fastest. This could mean that an intermediate result is being cached.\n",
            "1000 loops, best of 5: 334 µs per loop\n",
            "The slowest run took 10.20 times longer than the fastest. This could mean that an intermediate result is being cached.\n",
            "100000 loops, best of 5: 8.08 µs per loop\n"
          ]
        }
      ]
    },
    {
      "cell_type": "markdown",
      "metadata": {
        "id": "TagmrdjG4Ww4"
      },
      "source": [
        "Implement the Newton method for the minimization of the loss function $\\mathcal{L}$. Set a maximim number of 100 iterations and a tolerance on the increment norm of $\\epsilon = 10^{-8}$."
      ]
    },
    {
      "cell_type": "code",
      "source": [
        "num_epochs = 100\n",
        "eps = 1e-8\n",
        "\n",
        "x = x_guess.copy()\n",
        "\n",
        "hist= [loss_jit(x)]\n",
        "\n",
        "for e in range(num_epochs):\n",
        "  G = grad_jit(x)\n",
        "  H = hess_jit(x)\n",
        "  incr = np.linalg.solve(H, -G)\n",
        "  x += incr\n",
        "  hist.append(loss_jit(x))\n",
        "\n",
        "  if(np.linalg.norm(incr)<eps): break\n",
        "\n",
        "error =  (np.linalg.norm(x - x_ex)/np.linalg.norm(x_ex))\n",
        "print('Epochs %d' % (e +1))\n",
        "print('Error %1.3e' % error)"
      ],
      "metadata": {
        "colab": {
          "base_uri": "https://localhost:8080/"
        },
        "id": "pgcTUktFjfiN",
        "outputId": "3c7500c0-b2a1-4c8f-d6be-7bbbd9c01838"
      },
      "execution_count": 56,
      "outputs": [
        {
          "output_type": "stream",
          "name": "stdout",
          "text": [
            "Epochs 2\n",
            "Error 6.275e-15\n"
          ]
        }
      ]
    },
    {
      "cell_type": "markdown",
      "metadata": {
        "id": "uNL7303C4oTL"
      },
      "source": [
        "Repeat the optimization loop for the loss function\n",
        "\n",
        "$$\n",
        "\\mathcal{L}(\\mathbf{x}) = \\| \\mathbf{b} - A \\, \\mathbf{x} \\|_4^4\n",
        "$$"
      ]
    },
    {
      "cell_type": "code",
      "source": [
        "def loss(x):\n",
        "  return np.sum((b - A@x)**4)"
      ],
      "metadata": {
        "id": "cSx2gp4NnG1_"
      },
      "execution_count": 57,
      "outputs": []
    },
    {
      "cell_type": "code",
      "source": [
        "grad = jax.grad(loss)\n",
        "#hess = jax.jacrev(grad) #reverse automatic diff: convenient when we have many inputs\n",
        "hess = jax.jacfwd(grad) #forward automatic diff: convenient when we have many outputs\n",
        "\n",
        "\n",
        "loss_jit = jax.jit(loss)\n",
        "grad_jit = jax.jit(grad)\n",
        "hess_jit = jax.jit(hess)"
      ],
      "metadata": {
        "id": "TxKWsBjfnQRF"
      },
      "execution_count": 58,
      "outputs": []
    },
    {
      "cell_type": "code",
      "source": [
        "num_epochs = 100\n",
        "eps = 1e-8\n",
        "\n",
        "x = x_guess.copy()\n",
        "\n",
        "hist= [loss_jit(x)]\n",
        "\n",
        "for e in range(num_epochs):\n",
        "  G = grad_jit(x)\n",
        "  H = hess_jit(x)\n",
        "  incr = np.linalg.solve(H, -G)\n",
        "  x += incr\n",
        "  hist.append(loss_jit(x))\n",
        "\n",
        "  if(np.linalg.norm(incr)<eps): break\n",
        "\n",
        "error =  (np.linalg.norm(x - x_ex)/np.linalg.norm(x_ex))\n",
        "print('Epochs %d' % (e +1))\n",
        "print('Error %1.3e' % error)"
      ],
      "metadata": {
        "colab": {
          "base_uri": "https://localhost:8080/"
        },
        "id": "tgm7MIYjnM9r",
        "outputId": "2ec803db-457f-4aa6-d630-e7c0570534ee"
      },
      "execution_count": 59,
      "outputs": [
        {
          "output_type": "stream",
          "name": "stdout",
          "text": [
            "Epochs 51\n",
            "Error 1.657e-09\n"
          ]
        }
      ]
    },
    {
      "cell_type": "code",
      "source": [
        "plt.semilogy(hist, 'o-')"
      ],
      "metadata": {
        "colab": {
          "base_uri": "https://localhost:8080/",
          "height": 288
        },
        "id": "xnkm_l0dnYeX",
        "outputId": "2a40041c-a888-43f5-99f5-a2cb85dbcabb"
      },
      "execution_count": 61,
      "outputs": [
        {
          "output_type": "execute_result",
          "data": {
            "text/plain": [
              "[<matplotlib.lines.Line2D at 0x7efd644a3690>]"
            ]
          },
          "metadata": {},
          "execution_count": 61
        },
        {
          "output_type": "display_data",
          "data": {
            "image/png": "[encoded data removed]",
            "text/plain": [
              "<Figure size 432x288 with 1 Axes>"
            ]
          },
          "metadata": {
            "needs_background": "light"
          }
        }
      ]
    }
  ]
}